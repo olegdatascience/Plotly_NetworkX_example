{
 "cells": [
  {
   "cell_type": "code",
   "execution_count": 1,
   "id": "96bfc979",
   "metadata": {},
   "outputs": [],
   "source": [
    "import pandas as pd\n",
    "import networkx as nx\n",
    "import numpy as np\n",
    "from dataclasses import dataclass\n",
    "import matplotlib.pyplot as plt\n",
    "import plotly.graph_objects as go\n",
    "import math\n",
    "from PIL import Image"
   ]
  },
  {
   "cell_type": "code",
   "execution_count": 2,
   "id": "5294194e",
   "metadata": {},
   "outputs": [
    {
     "data": {
      "text/html": [
       "<div>\n",
       "<style scoped>\n",
       "    .dataframe tbody tr th:only-of-type {\n",
       "        vertical-align: middle;\n",
       "    }\n",
       "\n",
       "    .dataframe tbody tr th {\n",
       "        vertical-align: top;\n",
       "    }\n",
       "\n",
       "    .dataframe thead th {\n",
       "        text-align: right;\n",
       "    }\n",
       "</style>\n",
       "<table border=\"1\" class=\"dataframe\">\n",
       "  <thead>\n",
       "    <tr style=\"text-align: right;\">\n",
       "      <th></th>\n",
       "      <th>device_id</th>\n",
       "      <th>status</th>\n",
       "      <th>parent_id</th>\n",
       "      <th>type</th>\n",
       "    </tr>\n",
       "  </thead>\n",
       "  <tbody>\n",
       "    <tr>\n",
       "      <th>0</th>\n",
       "      <td>1</td>\n",
       "      <td>0</td>\n",
       "      <td>A</td>\n",
       "      <td>switch</td>\n",
       "    </tr>\n",
       "    <tr>\n",
       "      <th>1</th>\n",
       "      <td>2</td>\n",
       "      <td>1</td>\n",
       "      <td>B</td>\n",
       "      <td>switch</td>\n",
       "    </tr>\n",
       "    <tr>\n",
       "      <th>2</th>\n",
       "      <td>3</td>\n",
       "      <td>0</td>\n",
       "      <td>C</td>\n",
       "      <td>switch</td>\n",
       "    </tr>\n",
       "    <tr>\n",
       "      <th>3</th>\n",
       "      <td>4</td>\n",
       "      <td>1</td>\n",
       "      <td>D</td>\n",
       "      <td>switch</td>\n",
       "    </tr>\n",
       "    <tr>\n",
       "      <th>4</th>\n",
       "      <td>5</td>\n",
       "      <td>1</td>\n",
       "      <td>E</td>\n",
       "      <td>switch</td>\n",
       "    </tr>\n",
       "  </tbody>\n",
       "</table>\n",
       "</div>"
      ],
      "text/plain": [
       "  device_id  status parent_id    type\n",
       "0         1       0         A  switch\n",
       "1         2       1         B  switch\n",
       "2         3       0         C  switch\n",
       "3         4       1         D  switch\n",
       "4         5       1         E  switch"
      ]
     },
     "execution_count": 2,
     "metadata": {},
     "output_type": "execute_result"
    }
   ],
   "source": [
    "# load data:\n",
    "df = pd.read_excel('Data.xlsx')\n",
    "df.device_id = df.device_id.astype(str)\n",
    "df.head()"
   ]
  },
  {
   "cell_type": "code",
   "execution_count": 3,
   "id": "e31627dd",
   "metadata": {},
   "outputs": [],
   "source": [
    "# convert ids to string\n"
   ]
  },
  {
   "cell_type": "code",
   "execution_count": 4,
   "id": "706d0ac3",
   "metadata": {},
   "outputs": [],
   "source": [
    "# list of all unique parent ids and device ids\n",
    "device_list = df.device_id.unique()\n",
    "healthy_device_list = df[df.status == 1].device_id.unique()\n",
    "unhealthy_device_list = df[df.status == 0].device_id.unique()\n",
    "parents_list = df.parent_id.unique()\n",
    "UPS_list = df[df.type=='UPS'].parent_id.unique()\n",
    "switch_list = df[df.type=='switch'].parent_id.unique()\n"
   ]
  },
  {
   "cell_type": "code",
   "execution_count": 5,
   "id": "990b7547",
   "metadata": {},
   "outputs": [],
   "source": [
    "# calculate parent statistics:\n",
    "stats = df.groupby('parent_id').agg({'device_id':'nunique' , 'status':'mean'})  \n",
    "stats.columns = ['device_count', 'avaliability_percent']\n",
    "stats['avaliability_percent'] = 100 - stats['avaliability_percent'] * 100\n",
    "stats = stats.merge(df[['parent_id', 'type']].drop_duplicates(), how='left', left_index=True, right_on = 'parent_id')\n",
    "stats.set_index('parent_id', inplace=True)"
   ]
  },
  {
   "cell_type": "code",
   "execution_count": 6,
   "id": "ceb3c8fd",
   "metadata": {},
   "outputs": [
    {
     "data": {
      "text/html": [
       "<div>\n",
       "<style scoped>\n",
       "    .dataframe tbody tr th:only-of-type {\n",
       "        vertical-align: middle;\n",
       "    }\n",
       "\n",
       "    .dataframe tbody tr th {\n",
       "        vertical-align: top;\n",
       "    }\n",
       "\n",
       "    .dataframe thead th {\n",
       "        text-align: right;\n",
       "    }\n",
       "</style>\n",
       "<table border=\"1\" class=\"dataframe\">\n",
       "  <thead>\n",
       "    <tr style=\"text-align: right;\">\n",
       "      <th></th>\n",
       "      <th>device_count</th>\n",
       "      <th>avaliability_percent</th>\n",
       "      <th>type</th>\n",
       "    </tr>\n",
       "    <tr>\n",
       "      <th>parent_id</th>\n",
       "      <th></th>\n",
       "      <th></th>\n",
       "      <th></th>\n",
       "    </tr>\n",
       "  </thead>\n",
       "  <tbody>\n",
       "    <tr>\n",
       "      <th>A</th>\n",
       "      <td>9</td>\n",
       "      <td>44.44</td>\n",
       "      <td>switch</td>\n",
       "    </tr>\n",
       "    <tr>\n",
       "      <th>B</th>\n",
       "      <td>4</td>\n",
       "      <td>0.00</td>\n",
       "      <td>switch</td>\n",
       "    </tr>\n",
       "    <tr>\n",
       "      <th>C</th>\n",
       "      <td>3</td>\n",
       "      <td>100.00</td>\n",
       "      <td>switch</td>\n",
       "    </tr>\n",
       "    <tr>\n",
       "      <th>D</th>\n",
       "      <td>4</td>\n",
       "      <td>0.00</td>\n",
       "      <td>switch</td>\n",
       "    </tr>\n",
       "    <tr>\n",
       "      <th>E</th>\n",
       "      <td>4</td>\n",
       "      <td>50.00</td>\n",
       "      <td>switch</td>\n",
       "    </tr>\n",
       "  </tbody>\n",
       "</table>\n",
       "</div>"
      ],
      "text/plain": [
       "           device_count  avaliability_percent    type\n",
       "parent_id                                            \n",
       "A                     9                 44.44  switch\n",
       "B                     4                  0.00  switch\n",
       "C                     3                100.00  switch\n",
       "D                     4                  0.00  switch\n",
       "E                     4                 50.00  switch"
      ]
     },
     "execution_count": 6,
     "metadata": {},
     "output_type": "execute_result"
    }
   ],
   "source": [
    "stats.round(decimals=2).head()"
   ]
  },
  {
   "cell_type": "code",
   "execution_count": 7,
   "id": "5da2c7dd",
   "metadata": {},
   "outputs": [],
   "source": [
    "# add names and separate to stats by parent type\n",
    "stats['name'] = 'Name: ' + stats.index.values + '<br>' + \\\n",
    "                        'Type: ' + stats.type.values + '<br>' +\\\n",
    "                        'Unhealthy: ' + (stats.avaliability_percent * \n",
    "                                         stats.device_count / 100).\\\n",
    "                        round().astype(int).astype(str) + \\\n",
    "                        ' out of ' + stats.device_count.astype(str)\n",
    "\n",
    "stats_switch = stats[stats.index.isin(switch_list)]\n",
    "stats_ups = stats[stats.index.isin(UPS_list)]"
   ]
  },
  {
   "cell_type": "code",
   "execution_count": 8,
   "id": "fed27168",
   "metadata": {},
   "outputs": [
    {
     "data": {
      "text/html": [
       "<div>\n",
       "<style scoped>\n",
       "    .dataframe tbody tr th:only-of-type {\n",
       "        vertical-align: middle;\n",
       "    }\n",
       "\n",
       "    .dataframe tbody tr th {\n",
       "        vertical-align: top;\n",
       "    }\n",
       "\n",
       "    .dataframe thead th {\n",
       "        text-align: right;\n",
       "    }\n",
       "</style>\n",
       "<table border=\"1\" class=\"dataframe\">\n",
       "  <thead>\n",
       "    <tr style=\"text-align: right;\">\n",
       "      <th></th>\n",
       "      <th>device_count</th>\n",
       "      <th>avaliability_percent</th>\n",
       "      <th>type</th>\n",
       "      <th>name</th>\n",
       "    </tr>\n",
       "    <tr>\n",
       "      <th>parent_id</th>\n",
       "      <th></th>\n",
       "      <th></th>\n",
       "      <th></th>\n",
       "      <th></th>\n",
       "    </tr>\n",
       "  </thead>\n",
       "  <tbody>\n",
       "    <tr>\n",
       "      <th>A</th>\n",
       "      <td>9</td>\n",
       "      <td>44.44</td>\n",
       "      <td>switch</td>\n",
       "      <td>Name: A&lt;br&gt;Type: switch&lt;br&gt;Unhealthy: 4 out of 9</td>\n",
       "    </tr>\n",
       "    <tr>\n",
       "      <th>B</th>\n",
       "      <td>4</td>\n",
       "      <td>0.00</td>\n",
       "      <td>switch</td>\n",
       "      <td>Name: B&lt;br&gt;Type: switch&lt;br&gt;Unhealthy: 0 out of 4</td>\n",
       "    </tr>\n",
       "    <tr>\n",
       "      <th>C</th>\n",
       "      <td>3</td>\n",
       "      <td>100.00</td>\n",
       "      <td>switch</td>\n",
       "      <td>Name: C&lt;br&gt;Type: switch&lt;br&gt;Unhealthy: 3 out of 3</td>\n",
       "    </tr>\n",
       "    <tr>\n",
       "      <th>D</th>\n",
       "      <td>4</td>\n",
       "      <td>0.00</td>\n",
       "      <td>switch</td>\n",
       "      <td>Name: D&lt;br&gt;Type: switch&lt;br&gt;Unhealthy: 0 out of 4</td>\n",
       "    </tr>\n",
       "    <tr>\n",
       "      <th>E</th>\n",
       "      <td>4</td>\n",
       "      <td>50.00</td>\n",
       "      <td>switch</td>\n",
       "      <td>Name: E&lt;br&gt;Type: switch&lt;br&gt;Unhealthy: 2 out of 4</td>\n",
       "    </tr>\n",
       "  </tbody>\n",
       "</table>\n",
       "</div>"
      ],
      "text/plain": [
       "           device_count  avaliability_percent    type  \\\n",
       "parent_id                                               \n",
       "A                     9                 44.44  switch   \n",
       "B                     4                  0.00  switch   \n",
       "C                     3                100.00  switch   \n",
       "D                     4                  0.00  switch   \n",
       "E                     4                 50.00  switch   \n",
       "\n",
       "                                                       name  \n",
       "parent_id                                                    \n",
       "A          Name: A<br>Type: switch<br>Unhealthy: 4 out of 9  \n",
       "B          Name: B<br>Type: switch<br>Unhealthy: 0 out of 4  \n",
       "C          Name: C<br>Type: switch<br>Unhealthy: 3 out of 3  \n",
       "D          Name: D<br>Type: switch<br>Unhealthy: 0 out of 4  \n",
       "E          Name: E<br>Type: switch<br>Unhealthy: 2 out of 4  "
      ]
     },
     "execution_count": 8,
     "metadata": {},
     "output_type": "execute_result"
    }
   ],
   "source": [
    "stats.round(decimals=2).head()"
   ]
  },
  {
   "cell_type": "code",
   "execution_count": 9,
   "id": "5b51b125",
   "metadata": {},
   "outputs": [],
   "source": [
    "# Who's connected to what types\n",
    "# df[['device_id', 'type']].groupby('device_id').apply(lambda x: list(np.unique(x)))\n",
    "# df[['device_id', 'type']].groupby('device_id').apply(lambda x: list(np.array(x)))"
   ]
  },
  {
   "cell_type": "code",
   "execution_count": 10,
   "id": "3b0b7af0",
   "metadata": {},
   "outputs": [],
   "source": [
    "# no dulicates check\n",
    "# df.groupby(['device_id', 'parent_id']).count()"
   ]
  },
  {
   "cell_type": "markdown",
   "id": "28de1ba4",
   "metadata": {},
   "source": [
    "Create NetworkX Graph:"
   ]
  },
  {
   "cell_type": "code",
   "execution_count": 11,
   "id": "0363ae8f",
   "metadata": {},
   "outputs": [],
   "source": [
    "# make networkx graph from melted dataframe:\n",
    "def get_nx_graph(connections_for_nx, source, target, edge_attr_name = None, node_att=None):\n",
    "    #     assign nodes and edge attributes if any:\n",
    "    if edge_attr_name is not None:\n",
    "        G = nx.from_pandas_edgelist(connections_for_nx, source=source, target=target, edge_attr=edge_attr_name)\n",
    "    else:\n",
    "        G = nx.from_pandas_edgelist(connections_for_nx, source=source, target=target)\n",
    "\n",
    "    #     get # of nodes\n",
    "    Num_nodes = G.number_of_nodes()\n",
    "\n",
    "    #     assign node attributes if any:\n",
    "    if node_att is not None:\n",
    "            nx.set_node_attributes(G, node_att)\n",
    "    return G, Num_nodes"
   ]
  },
  {
   "cell_type": "markdown",
   "id": "d0828592",
   "metadata": {},
   "source": [
    "Create Graph:"
   ]
  },
  {
   "cell_type": "code",
   "execution_count": 12,
   "id": "b71ff54d",
   "metadata": {},
   "outputs": [],
   "source": [
    "# create node attributes:\n",
    "# 1. for devices:\n",
    "device_types = df[['device_id']].drop_duplicates().copy()\n",
    "device_types['type'] = 'device'\n",
    "device_types_dict = device_types.drop_duplicates().set_index('device_id').to_dict('index')\n",
    "# 2. for parents:\n",
    "parent_types = df[['parent_id', 'type']].drop_duplicates().copy()\n",
    "parents_types_dict = parent_types.drop_duplicates().set_index('parent_id').to_dict('index')\n",
    "# 3. unite:\n",
    "types_dict = parents_types_dict | device_types_dict"
   ]
  },
  {
   "cell_type": "code",
   "execution_count": 13,
   "id": "51b6cebf",
   "metadata": {},
   "outputs": [],
   "source": [
    "G, Num_nodes = get_nx_graph(df, 'device_id', 'parent_id', edge_attr_name='type', node_att=types_dict)"
   ]
  },
  {
   "cell_type": "markdown",
   "id": "f5d6cb77",
   "metadata": {},
   "source": [
    "Geometry:"
   ]
  },
  {
   "cell_type": "code",
   "execution_count": 14,
   "id": "35b04710",
   "metadata": {},
   "outputs": [],
   "source": [
    "# scatter initial position around their group gathering point on unit circuit:\n",
    "init_pos = dict()\n",
    "init_pos_x = np.cos(np.linspace(0, 2 * math.pi, len(parents_list)+1))\n",
    "init_pos_y = np.sin(np.linspace(0, 2 * math.pi, len(parents_list)+1))\n",
    "init_pos_xy = tuple(zip(init_pos_x, init_pos_y))\n",
    "\n",
    "init_pos = dict(zip(df.parent_id.unique(), init_pos_xy))\n",
    "\n",
    "for d in df.device_id.unique():\n",
    "    init_pos[d] = tuple([0,0] + np.random.randn(2)*0.01)"
   ]
  },
  {
   "cell_type": "code",
   "execution_count": 15,
   "id": "ea7bec90",
   "metadata": {},
   "outputs": [],
   "source": [
    "# Calculate positions:\n",
    "sp_pos = nx.spring_layout(G, \n",
    "                          dim=2, \n",
    "                          iterations=2,\n",
    "                          pos=init_pos, \n",
    "                          fixed=list(df.parent_id.unique()),\n",
    "                          k=100000 / np.sqrt(Num_nodes),\n",
    "                          seed=321)"
   ]
  },
  {
   "cell_type": "code",
   "execution_count": 16,
   "id": "d7ea9df2",
   "metadata": {},
   "outputs": [],
   "source": [
    "@dataclass\n",
    "class GraphicGroup:\n",
    "    x_edges: list\n",
    "    y_edges: list\n",
    "    x_nodes: list\n",
    "    y_nodes: list\n",
    "    edge_color: 'typing.Any'\n",
    "    node_color:  'typing.Any'\n",
    "    node_color_outline: 'typing.Any'\n",
    "    node_hover: 'typing.Any'\n",
    "    node_size: 'typing.Any'\n",
    "    marker: 'typing.Any'\n",
    "    marker_linewidth: 'typing.Any'\n",
    "    mode: str\n",
    "    opacity: 'typing.Any'"
   ]
  },
  {
   "cell_type": "code",
   "execution_count": 56,
   "id": "a73dacc4",
   "metadata": {},
   "outputs": [],
   "source": [
    "# define geometry to draw with plotly:\n",
    "def get_geometry(item_list, item_list_highlight, G, sp_pos):\n",
    "    x_edges = []\n",
    "    y_edges = []\n",
    "    x_edges_hl = []\n",
    "    y_edges_hl = []\n",
    "\n",
    "    group_edge_list = G.edges(item_list)\n",
    "    group_edge_list_highlight =  G.edges(item_list_highlight)\n",
    "\n",
    "    for edge in [x for x in group_edge_list if x not in group_edge_list_highlight]:\n",
    "        # format: [beginning,ending,None]\n",
    "        x_edges.extend([sp_pos[edge[0]][0], sp_pos[edge[1]][0], None])\n",
    "        y_edges.extend([sp_pos[edge[0]][1], sp_pos[edge[1]][1], None])\n",
    "\n",
    "    for edge in [x for x in group_edge_list_highlight if x in group_edge_list]:\n",
    "        # format: [beginning,ending,None]\n",
    "        x_edges_hl.extend([sp_pos[edge[0]][0], sp_pos[edge[1]][0], None])\n",
    "        y_edges_hl.extend([sp_pos[edge[0]][1], sp_pos[edge[1]][1], None])\n",
    "\n",
    "    x_nodes = [sp_pos[i][0] for i in item_list]  # x-coordinates of nodes\n",
    "    y_nodes = [sp_pos[i][1] for i in item_list]  # y-coordinates of nodes\n",
    "    \n",
    "    deg = [G.degree[i] for i in item_list]  # degree\n",
    "\n",
    "    return x_edges, y_edges, x_edges_hl, y_edges_hl, x_nodes, y_nodes, deg"
   ]
  },
  {
   "cell_type": "code",
   "execution_count": 57,
   "id": "797e8c7c",
   "metadata": {},
   "outputs": [],
   "source": [
    "x_edges_s_h, y_edges_s_h, x_edges_s_uh, y_edges_s_uh, x_nodes_s, y_nodes_s, deg_s = \\\n",
    "    get_geometry(switch_list, unhealthy_device_list, G, sp_pos)\n",
    "\n",
    "x_edges_ups_h, y_edges_ups_h, x_edges_ups_uh, y_edges_ups_uh, x_nodes_ups, y_nodes_ups, deg_ups = \\\n",
    "    get_geometry(UPS_list, unhealthy_device_list, G, sp_pos)\n",
    "\n",
    "_, _, _, _, x_nodes_devs_h, y_nodes_devs_h, _ = \\\n",
    "    get_geometry(healthy_device_list, [], G, sp_pos)\n",
    "\n",
    "_, _, _, _, x_nodes_devs_uh, y_nodes_devs_uh, _ = \\\n",
    "    get_geometry(unhealthy_device_list, [], G, sp_pos)\n"
   ]
  },
  {
   "cell_type": "markdown",
   "id": "d0e7f9e4",
   "metadata": {},
   "source": [
    "Plotly:"
   ]
  },
  {
   "cell_type": "code",
   "execution_count": 60,
   "id": "4db2877b",
   "metadata": {},
   "outputs": [],
   "source": [
    "# Define attributes for each graphic group:\n",
    "\n",
    "graphic_group_s = GraphicGroup(\n",
    "    x_edges=x_edges_s_h,\n",
    "    y_edges=y_edges_s_h,\n",
    "    x_nodes=x_nodes_s,\n",
    "    y_nodes=y_nodes_s,\n",
    "    edge_color='cadetblue',\n",
    "    node_color='cadetblue',\n",
    "    node_color_outline = 'cadetblue',\n",
    "    node_hover=stats_switch.name,\n",
    "    node_size=stats_switch.device_count.values*10,\n",
    "    marker='circle',\n",
    "    marker_linewidth=6,\n",
    "    mode='markers+text',\n",
    "    opacity=1)\n",
    "\n",
    "graphic_group_s_uh = GraphicGroup(\n",
    "    x_edges=x_edges_s_uh,\n",
    "    y_edges=y_edges_s_uh,\n",
    "    x_nodes=[],\n",
    "    y_nodes=[],\n",
    "    edge_color='red',\n",
    "    node_color=None,\n",
    "    node_color_outline = None,\n",
    "    node_hover=None,\n",
    "    node_size=None,\n",
    "    marker=None,\n",
    "    marker_linewidth=None,\n",
    "    mode='markers',\n",
    "    opacity=1)\n",
    "\n",
    "graphic_group_ups = GraphicGroup(\n",
    "    x_edges=x_edges_ups_h,\n",
    "    y_edges=y_edges_ups_h,\n",
    "    x_nodes=x_nodes_ups,\n",
    "    y_nodes=y_nodes_ups,\n",
    "    edge_color='steelblue',\n",
    "    node_color='steelblue',\n",
    "    node_color_outline = 'steelblue',\n",
    "    node_hover=stats_ups.name,\n",
    "    node_size=stats_ups.device_count.values*10,\n",
    "    marker=None,\n",
    "    marker_linewidth=6,\n",
    "    mode='markers+text',\n",
    "    opacity=1)\n",
    "\n",
    "graphic_group_ups_uh = GraphicGroup(\n",
    "    x_edges=x_edges_ups_uh,\n",
    "    y_edges=y_edges_ups_uh,\n",
    "    x_nodes=[],\n",
    "    y_nodes=[],\n",
    "    edge_color='red',\n",
    "    node_color=None,\n",
    "    node_color_outline = None,\n",
    "    node_hover=None,\n",
    "    node_size=None,\n",
    "    marker=None,\n",
    "    marker_linewidth=None,\n",
    "    mode='markers',\n",
    "    opacity=1)\n",
    "\n",
    "graphic_group_devs_h = GraphicGroup(\n",
    "    x_edges=[],\n",
    "    y_edges=[],\n",
    "    x_nodes=x_nodes_devs_h,\n",
    "    y_nodes=y_nodes_devs_h,\n",
    "    edge_color='green',\n",
    "    node_color='green',\n",
    "    node_color_outline = 'green',\n",
    "    node_hover= healthy_device_list,\n",
    "    node_size=8,\n",
    "    marker='circle',\n",
    "    marker_linewidth=1,\n",
    "    mode='markers+text',\n",
    "    opacity=1)\n",
    "\n",
    "graphic_group_devs_uh = GraphicGroup(\n",
    "    x_edges=[],\n",
    "    y_edges=[],\n",
    "    x_nodes=x_nodes_devs_uh,\n",
    "    y_nodes=y_nodes_devs_uh,\n",
    "    edge_color='red',\n",
    "    node_color='red',\n",
    "    node_color_outline = 'red',\n",
    "    node_hover= unhealthy_device_list,\n",
    "    node_size=8,\n",
    "    marker='circle',\n",
    "    marker_linewidth=1,\n",
    "    mode='markers+text',\n",
    "    opacity=1)"
   ]
  },
  {
   "cell_type": "code",
   "execution_count": 61,
   "id": "f67302fe",
   "metadata": {},
   "outputs": [],
   "source": [
    "# Convert each graphic group to objects in Plotly:\n",
    "def get_traces(graphic_group):\n",
    "    trace_edges = go.Scatter(x=graphic_group.x_edges,\n",
    "                             y=graphic_group.y_edges,\n",
    "                             mode='lines',\n",
    "                             line=dict(color=graphic_group.edge_color, width=0.75),\n",
    "                             hoverinfo='none',\n",
    "                             opacity=1)\n",
    "    trace_nodes = go.Scatter(x=graphic_group.x_nodes,\n",
    "                             y=graphic_group.y_nodes,\n",
    "                             mode=graphic_group.mode,\n",
    "                             marker=dict(symbol=graphic_group.marker,\n",
    "                                         size=graphic_group.node_size,  \n",
    "                                         color=graphic_group.node_color, \n",
    "                                         line=dict(color=graphic_group.node_color_outline, \n",
    "                                                   width=graphic_group.marker_linewidth), \n",
    "                                         opacity=graphic_group.opacity),\n",
    "                             text=graphic_group.node_hover,\n",
    "                             hovertext=graphic_group.node_hover,\n",
    "                             hoverinfo='text',\n",
    "                             textposition=\"top center\")\n",
    "    return trace_edges, trace_nodes"
   ]
  },
  {
   "cell_type": "code",
   "execution_count": 62,
   "id": "458cdbf3",
   "metadata": {},
   "outputs": [],
   "source": [
    "trace_edges_s, trace_nodes_s = get_traces(graphic_group_s)\n",
    "trace_edges_ups, trace_nodes_ups = get_traces(graphic_group_ups)\n",
    "trace_edges_devs, trace_nodes_devs = get_traces(graphic_group_devs_h)\n",
    "trace_edges_devs_uh, trace_nodes_devs_uh = get_traces(graphic_group_devs_uh)\n",
    "trace_edges_s_uh, _ = get_traces(graphic_group_s_uh)\n",
    "trace_edges_ups_uh, _ = get_traces(graphic_group_ups_uh)\n"
   ]
  },
  {
   "cell_type": "code",
   "execution_count": 63,
   "id": "d9154a19",
   "metadata": {},
   "outputs": [],
   "source": [
    "# assemble all graphic objects to an array of all display data:\n",
    "display_data = [                       \n",
    "        trace_edges_s,\n",
    "        trace_edges_ups,\n",
    "        trace_edges_s_uh,\n",
    "        trace_edges_ups_uh,\n",
    "        trace_nodes_s,\n",
    "        trace_nodes_ups,  \n",
    "        trace_nodes_devs,\n",
    "        trace_nodes_devs_uh,\n",
    "    ]"
   ]
  },
  {
   "cell_type": "code",
   "execution_count": 64,
   "id": "0c8f0576",
   "metadata": {},
   "outputs": [],
   "source": [
    "# define figure layout:\n",
    "layout = go.Layout(title=\"Root Cause Overview\",\n",
    "                       width=1000,\n",
    "                       height=1100,\n",
    "                       showlegend=False,\n",
    "                       hovermode='closest',\n",
    "                       hoverlabel=dict(\n",
    "                           bgcolor=\"white\",\n",
    "                           font_size=26,\n",
    "                           font_family=\"Rockwell\"),\n",
    "                       yaxis_range=[-1.2,1.2],\n",
    "                       xaxis_range=[-1.3,1.3],\n",
    "                       xaxis=dict(showgrid=False),\n",
    "                       yaxis=dict(showgrid=False))"
   ]
  },
  {
   "cell_type": "code",
   "execution_count": 65,
   "id": "7aae5a8a",
   "metadata": {
    "scrolled": false
   },
   "outputs": [
    {
     "data": {
      "application/vnd.plotly.v1+json": {
       "config": {
        "plotlyServerURL": "https://plot.ly"
       },
       "data": [
        {
         "hoverinfo": "none",
         "line": {
          "color": "cadetblue",
          "width": 0.75
         },
         "mode": "lines",
         "opacity": 1,
         "type": "scatter",
         "x": [
          1,
          -0.19253106360283606,
          null,
          1,
          -0.08870953800793763,
          null,
          1,
          -0.31587992731758463,
          null,
          1,
          0.2756968426448936,
          null,
          1,
          -0.22652389570367945,
          null,
          0.7071067811865476,
          0.2756968426448936,
          null,
          0.7071067811865476,
          0.31787879408257175,
          null,
          0.7071067811865476,
          -0.2031558487284403,
          null,
          0.7071067811865476,
          0.17526278529930572,
          null,
          -0.7071067811865475,
          -0.22652389570367945,
          null,
          -0.7071067811865475,
          0.03664586316682148,
          null,
          -0.7071067811865475,
          0.30469293616740584,
          null,
          -0.7071067811865475,
          0.2756968426448936,
          null,
          -1,
          0.17526278529930572,
          null,
          -1,
          0.0764524974681519,
          null,
          -0.7071067811865477,
          0.3278021703599268,
          null,
          -0.7071067811865477,
          0.0764524974681519,
          null,
          -0.7071067811865477,
          -0.31587992731758463,
          null,
          -0.7071067811865477,
          0.2756968426448936,
          null
         ],
         "y": [
          0,
          -0.2708300734892861,
          null,
          0,
          -0.32986939707243335,
          null,
          0,
          0.04623016156131226,
          null,
          0,
          0.16098603419824362,
          null,
          0,
          -0.21647073004262138,
          null,
          0.7071067811865476,
          0.16098603419824362,
          null,
          0.7071067811865476,
          -0.11858925008554082,
          null,
          0.7071067811865476,
          0.2829622873583427,
          null,
          0.7071067811865476,
          -0.26764723787226224,
          null,
          0.7071067811865476,
          -0.21647073004262138,
          null,
          0.7071067811865476,
          0.33783171134851436,
          null,
          0.7071067811865476,
          0.0753064580116259,
          null,
          0.7071067811865476,
          0.16098603419824362,
          null,
          1.2246467991473532e-16,
          -0.26764723787226224,
          null,
          1.2246467991473532e-16,
          0.26518020342212484,
          null,
          -0.7071067811865475,
          0.1263763241801044,
          null,
          -0.7071067811865475,
          0.26518020342212484,
          null,
          -0.7071067811865475,
          0.04623016156131226,
          null,
          -0.7071067811865475,
          0.16098603419824362,
          null
         ]
        },
        {
         "hoverinfo": "none",
         "line": {
          "color": "steelblue",
          "width": 0.75
         },
         "mode": "lines",
         "opacity": 1,
         "type": "scatter",
         "x": [
          -1.8369701987210297e-16,
          -0.22652389570367945,
          null,
          -1.8369701987210297e-16,
          0.17526278529930572,
          null,
          -1.8369701987210297e-16,
          -0.19253106360283606,
          null,
          -1.8369701987210297e-16,
          0.31787879408257175,
          null,
          -1.8369701987210297e-16,
          0.01665924406188511,
          null,
          -1.8369701987210297e-16,
          0.03664586316682148,
          null
         ],
         "y": [
          -1,
          -0.21647073004262138,
          null,
          -1,
          -0.26764723787226224,
          null,
          -1,
          -0.2708300734892861,
          null,
          -1,
          -0.11858925008554082,
          null,
          -1,
          -0.3494304911195122,
          null,
          -1,
          0.33783171134851436,
          null
         ]
        },
        {
         "hoverinfo": "none",
         "line": {
          "color": "red",
          "width": 0.75
         },
         "mode": "lines",
         "opacity": 1,
         "type": "scatter",
         "x": [
          -0.08963796286696701,
          1,
          null,
          -0.08963796286696701,
          6.123233995736766e-17,
          null,
          -0.08963796286696701,
          -0.7071067811865477,
          null,
          0.26649530922319836,
          6.123233995736766e-17,
          null,
          0.26649530922319836,
          1,
          null,
          0.26649530922319836,
          -0.7071067811865477,
          null,
          -0.3247417617176068,
          -1,
          null,
          -0.3247417617176068,
          1,
          null,
          -0.3011568913822895,
          -1,
          null,
          -0.3011568913822895,
          6.123233995736766e-17,
          null,
          -0.3011568913822895,
          1,
          null
         ],
         "y": [
          0.3323791325270762,
          0,
          null,
          0.3323791325270762,
          1,
          null,
          0.3323791325270762,
          -0.7071067811865475,
          null,
          -0.21886680382475868,
          1,
          null,
          -0.21886680382475868,
          0,
          null,
          -0.21886680382475868,
          -0.7071067811865475,
          null,
          -0.009447263025425826,
          1.2246467991473532e-16,
          null,
          -0.009447263025425826,
          0,
          null,
          0.16961893365779585,
          1.2246467991473532e-16,
          null,
          0.16961893365779585,
          1,
          null,
          0.16961893365779585,
          0,
          null
         ]
        },
        {
         "hoverinfo": "none",
         "line": {
          "color": "red",
          "width": 0.75
         },
         "mode": "lines",
         "opacity": 1,
         "type": "scatter",
         "x": [
          -0.08963796286696701,
          0.7071067811865474,
          null,
          0.26649530922319836,
          0.7071067811865474,
          null,
          -0.3247417617176068,
          0.7071067811865474,
          null,
          -0.3011568913822895,
          0.7071067811865474,
          null
         ],
         "y": [
          0.3323791325270762,
          -0.7071067811865477,
          null,
          -0.21886680382475868,
          -0.7071067811865477,
          null,
          -0.009447263025425826,
          -0.7071067811865477,
          null,
          0.16961893365779585,
          -0.7071067811865477,
          null
         ]
        },
        {
         "hoverinfo": "text",
         "hovertext": [
          "Name: A<br>Type: switch<br>Unhealthy: 4 out of 9",
          "Name: B<br>Type: switch<br>Unhealthy: 0 out of 4",
          "Name: C<br>Type: switch<br>Unhealthy: 3 out of 3",
          "Name: D<br>Type: switch<br>Unhealthy: 0 out of 4",
          "Name: E<br>Type: switch<br>Unhealthy: 2 out of 4",
          "Name: F<br>Type: switch<br>Unhealthy: 2 out of 6"
         ],
         "marker": {
          "color": "cadetblue",
          "line": {
           "color": "cadetblue",
           "width": 6
          },
          "opacity": 1,
          "size": [
           90,
           40,
           30,
           40,
           40,
           60
          ],
          "symbol": "circle"
         },
         "mode": "markers+text",
         "text": [
          "Name: A<br>Type: switch<br>Unhealthy: 4 out of 9",
          "Name: B<br>Type: switch<br>Unhealthy: 0 out of 4",
          "Name: C<br>Type: switch<br>Unhealthy: 3 out of 3",
          "Name: D<br>Type: switch<br>Unhealthy: 0 out of 4",
          "Name: E<br>Type: switch<br>Unhealthy: 2 out of 4",
          "Name: F<br>Type: switch<br>Unhealthy: 2 out of 6"
         ],
         "textposition": "top center",
         "type": "scatter",
         "x": [
          1,
          0.7071067811865476,
          6.123233995736766e-17,
          -0.7071067811865475,
          -1,
          -0.7071067811865477
         ],
         "y": [
          0,
          0.7071067811865476,
          1,
          0.7071067811865476,
          1.2246467991473532e-16,
          -0.7071067811865475
         ]
        },
        {
         "hoverinfo": "text",
         "hovertext": [
          "Name: G<br>Type: UPS<br>Unhealthy: 0 out of 6",
          "Name: H<br>Type: UPS<br>Unhealthy: 4 out of 4"
         ],
         "marker": {
          "color": "steelblue",
          "line": {
           "color": "steelblue",
           "width": 6
          },
          "opacity": 1,
          "size": [
           60,
           40
          ]
         },
         "mode": "markers+text",
         "text": [
          "Name: G<br>Type: UPS<br>Unhealthy: 0 out of 6",
          "Name: H<br>Type: UPS<br>Unhealthy: 4 out of 4"
         ],
         "textposition": "top center",
         "type": "scatter",
         "x": [
          -1.8369701987210297e-16,
          0.7071067811865474
         ],
         "y": [
          -1,
          -0.7071067811865477
         ]
        },
        {
         "hoverinfo": "text",
         "hovertext": [
          "2",
          "4",
          "5",
          "6",
          "7",
          "9",
          "21",
          "22",
          "24",
          "26",
          "27",
          "25",
          "8"
         ],
         "marker": {
          "color": "green",
          "line": {
           "color": "green",
           "width": 1
          },
          "opacity": 1,
          "size": 8,
          "symbol": "circle"
         },
         "mode": "markers+text",
         "text": [
          "2",
          "4",
          "5",
          "6",
          "7",
          "9",
          "21",
          "22",
          "24",
          "26",
          "27",
          "25",
          "8"
         ],
         "textposition": "top center",
         "type": "scatter",
         "x": [
          0.2756968426448936,
          -0.22652389570367945,
          0.17526278529930572,
          -0.19253106360283606,
          0.31787879408257175,
          0.03664586316682148,
          -0.08870953800793763,
          -0.2031558487284403,
          0.30469293616740584,
          0.0764524974681519,
          -0.31587992731758463,
          0.3278021703599268,
          0.01665924406188511
         ],
         "y": [
          0.16098603419824362,
          -0.21647073004262138,
          -0.26764723787226224,
          -0.2708300734892861,
          -0.11858925008554082,
          0.33783171134851436,
          -0.32986939707243335,
          0.2829622873583427,
          0.0753064580116259,
          0.26518020342212484,
          0.04623016156131226,
          0.1263763241801044,
          -0.3494304911195122
         ]
        },
        {
         "hoverinfo": "text",
         "hovertext": [
          "1",
          "3",
          "10",
          "23"
         ],
         "marker": {
          "color": "red",
          "line": {
           "color": "red",
           "width": 1
          },
          "opacity": 1,
          "size": 8,
          "symbol": "circle"
         },
         "mode": "markers+text",
         "text": [
          "1",
          "3",
          "10",
          "23"
         ],
         "textposition": "top center",
         "type": "scatter",
         "x": [
          -0.08963796286696701,
          0.26649530922319836,
          -0.3247417617176068,
          -0.3011568913822895
         ],
         "y": [
          0.3323791325270762,
          -0.21886680382475868,
          -0.009447263025425826,
          0.16961893365779585
         ]
        }
       ],
       "layout": {
        "height": 1100,
        "hoverlabel": {
         "bgcolor": "white",
         "font": {
          "family": "Rockwell",
          "size": 26
         }
        },
        "hovermode": "closest",
        "showlegend": false,
        "template": {
         "data": {
          "bar": [
           {
            "error_x": {
             "color": "#2a3f5f"
            },
            "error_y": {
             "color": "#2a3f5f"
            },
            "marker": {
             "line": {
              "color": "#E5ECF6",
              "width": 0.5
             },
             "pattern": {
              "fillmode": "overlay",
              "size": 10,
              "solidity": 0.2
             }
            },
            "type": "bar"
           }
          ],
          "barpolar": [
           {
            "marker": {
             "line": {
              "color": "#E5ECF6",
              "width": 0.5
             },
             "pattern": {
              "fillmode": "overlay",
              "size": 10,
              "solidity": 0.2
             }
            },
            "type": "barpolar"
           }
          ],
          "carpet": [
           {
            "aaxis": {
             "endlinecolor": "#2a3f5f",
             "gridcolor": "white",
             "linecolor": "white",
             "minorgridcolor": "white",
             "startlinecolor": "#2a3f5f"
            },
            "baxis": {
             "endlinecolor": "#2a3f5f",
             "gridcolor": "white",
             "linecolor": "white",
             "minorgridcolor": "white",
             "startlinecolor": "#2a3f5f"
            },
            "type": "carpet"
           }
          ],
          "choropleth": [
           {
            "colorbar": {
             "outlinewidth": 0,
             "ticks": ""
            },
            "type": "choropleth"
           }
          ],
          "contour": [
           {
            "colorbar": {
             "outlinewidth": 0,
             "ticks": ""
            },
            "colorscale": [
             [
              0,
              "#0d0887"
             ],
             [
              0.1111111111111111,
              "#46039f"
             ],
             [
              0.2222222222222222,
              "#7201a8"
             ],
             [
              0.3333333333333333,
              "#9c179e"
             ],
             [
              0.4444444444444444,
              "#bd3786"
             ],
             [
              0.5555555555555556,
              "#d8576b"
             ],
             [
              0.6666666666666666,
              "#ed7953"
             ],
             [
              0.7777777777777778,
              "#fb9f3a"
             ],
             [
              0.8888888888888888,
              "#fdca26"
             ],
             [
              1,
              "#f0f921"
             ]
            ],
            "type": "contour"
           }
          ],
          "contourcarpet": [
           {
            "colorbar": {
             "outlinewidth": 0,
             "ticks": ""
            },
            "type": "contourcarpet"
           }
          ],
          "heatmap": [
           {
            "colorbar": {
             "outlinewidth": 0,
             "ticks": ""
            },
            "colorscale": [
             [
              0,
              "#0d0887"
             ],
             [
              0.1111111111111111,
              "#46039f"
             ],
             [
              0.2222222222222222,
              "#7201a8"
             ],
             [
              0.3333333333333333,
              "#9c179e"
             ],
             [
              0.4444444444444444,
              "#bd3786"
             ],
             [
              0.5555555555555556,
              "#d8576b"
             ],
             [
              0.6666666666666666,
              "#ed7953"
             ],
             [
              0.7777777777777778,
              "#fb9f3a"
             ],
             [
              0.8888888888888888,
              "#fdca26"
             ],
             [
              1,
              "#f0f921"
             ]
            ],
            "type": "heatmap"
           }
          ],
          "heatmapgl": [
           {
            "colorbar": {
             "outlinewidth": 0,
             "ticks": ""
            },
            "colorscale": [
             [
              0,
              "#0d0887"
             ],
             [
              0.1111111111111111,
              "#46039f"
             ],
             [
              0.2222222222222222,
              "#7201a8"
             ],
             [
              0.3333333333333333,
              "#9c179e"
             ],
             [
              0.4444444444444444,
              "#bd3786"
             ],
             [
              0.5555555555555556,
              "#d8576b"
             ],
             [
              0.6666666666666666,
              "#ed7953"
             ],
             [
              0.7777777777777778,
              "#fb9f3a"
             ],
             [
              0.8888888888888888,
              "#fdca26"
             ],
             [
              1,
              "#f0f921"
             ]
            ],
            "type": "heatmapgl"
           }
          ],
          "histogram": [
           {
            "marker": {
             "pattern": {
              "fillmode": "overlay",
              "size": 10,
              "solidity": 0.2
             }
            },
            "type": "histogram"
           }
          ],
          "histogram2d": [
           {
            "colorbar": {
             "outlinewidth": 0,
             "ticks": ""
            },
            "colorscale": [
             [
              0,
              "#0d0887"
             ],
             [
              0.1111111111111111,
              "#46039f"
             ],
             [
              0.2222222222222222,
              "#7201a8"
             ],
             [
              0.3333333333333333,
              "#9c179e"
             ],
             [
              0.4444444444444444,
              "#bd3786"
             ],
             [
              0.5555555555555556,
              "#d8576b"
             ],
             [
              0.6666666666666666,
              "#ed7953"
             ],
             [
              0.7777777777777778,
              "#fb9f3a"
             ],
             [
              0.8888888888888888,
              "#fdca26"
             ],
             [
              1,
              "#f0f921"
             ]
            ],
            "type": "histogram2d"
           }
          ],
          "histogram2dcontour": [
           {
            "colorbar": {
             "outlinewidth": 0,
             "ticks": ""
            },
            "colorscale": [
             [
              0,
              "#0d0887"
             ],
             [
              0.1111111111111111,
              "#46039f"
             ],
             [
              0.2222222222222222,
              "#7201a8"
             ],
             [
              0.3333333333333333,
              "#9c179e"
             ],
             [
              0.4444444444444444,
              "#bd3786"
             ],
             [
              0.5555555555555556,
              "#d8576b"
             ],
             [
              0.6666666666666666,
              "#ed7953"
             ],
             [
              0.7777777777777778,
              "#fb9f3a"
             ],
             [
              0.8888888888888888,
              "#fdca26"
             ],
             [
              1,
              "#f0f921"
             ]
            ],
            "type": "histogram2dcontour"
           }
          ],
          "mesh3d": [
           {
            "colorbar": {
             "outlinewidth": 0,
             "ticks": ""
            },
            "type": "mesh3d"
           }
          ],
          "parcoords": [
           {
            "line": {
             "colorbar": {
              "outlinewidth": 0,
              "ticks": ""
             }
            },
            "type": "parcoords"
           }
          ],
          "pie": [
           {
            "automargin": true,
            "type": "pie"
           }
          ],
          "scatter": [
           {
            "fillpattern": {
             "fillmode": "overlay",
             "size": 10,
             "solidity": 0.2
            },
            "type": "scatter"
           }
          ],
          "scatter3d": [
           {
            "line": {
             "colorbar": {
              "outlinewidth": 0,
              "ticks": ""
             }
            },
            "marker": {
             "colorbar": {
              "outlinewidth": 0,
              "ticks": ""
             }
            },
            "type": "scatter3d"
           }
          ],
          "scattercarpet": [
           {
            "marker": {
             "colorbar": {
              "outlinewidth": 0,
              "ticks": ""
             }
            },
            "type": "scattercarpet"
           }
          ],
          "scattergeo": [
           {
            "marker": {
             "colorbar": {
              "outlinewidth": 0,
              "ticks": ""
             }
            },
            "type": "scattergeo"
           }
          ],
          "scattergl": [
           {
            "marker": {
             "colorbar": {
              "outlinewidth": 0,
              "ticks": ""
             }
            },
            "type": "scattergl"
           }
          ],
          "scattermapbox": [
           {
            "marker": {
             "colorbar": {
              "outlinewidth": 0,
              "ticks": ""
             }
            },
            "type": "scattermapbox"
           }
          ],
          "scatterpolar": [
           {
            "marker": {
             "colorbar": {
              "outlinewidth": 0,
              "ticks": ""
             }
            },
            "type": "scatterpolar"
           }
          ],
          "scatterpolargl": [
           {
            "marker": {
             "colorbar": {
              "outlinewidth": 0,
              "ticks": ""
             }
            },
            "type": "scatterpolargl"
           }
          ],
          "scatterternary": [
           {
            "marker": {
             "colorbar": {
              "outlinewidth": 0,
              "ticks": ""
             }
            },
            "type": "scatterternary"
           }
          ],
          "surface": [
           {
            "colorbar": {
             "outlinewidth": 0,
             "ticks": ""
            },
            "colorscale": [
             [
              0,
              "#0d0887"
             ],
             [
              0.1111111111111111,
              "#46039f"
             ],
             [
              0.2222222222222222,
              "#7201a8"
             ],
             [
              0.3333333333333333,
              "#9c179e"
             ],
             [
              0.4444444444444444,
              "#bd3786"
             ],
             [
              0.5555555555555556,
              "#d8576b"
             ],
             [
              0.6666666666666666,
              "#ed7953"
             ],
             [
              0.7777777777777778,
              "#fb9f3a"
             ],
             [
              0.8888888888888888,
              "#fdca26"
             ],
             [
              1,
              "#f0f921"
             ]
            ],
            "type": "surface"
           }
          ],
          "table": [
           {
            "cells": {
             "fill": {
              "color": "#EBF0F8"
             },
             "line": {
              "color": "white"
             }
            },
            "header": {
             "fill": {
              "color": "#C8D4E3"
             },
             "line": {
              "color": "white"
             }
            },
            "type": "table"
           }
          ]
         },
         "layout": {
          "annotationdefaults": {
           "arrowcolor": "#2a3f5f",
           "arrowhead": 0,
           "arrowwidth": 1
          },
          "autotypenumbers": "strict",
          "coloraxis": {
           "colorbar": {
            "outlinewidth": 0,
            "ticks": ""
           }
          },
          "colorscale": {
           "diverging": [
            [
             0,
             "#8e0152"
            ],
            [
             0.1,
             "#c51b7d"
            ],
            [
             0.2,
             "#de77ae"
            ],
            [
             0.3,
             "#f1b6da"
            ],
            [
             0.4,
             "#fde0ef"
            ],
            [
             0.5,
             "#f7f7f7"
            ],
            [
             0.6,
             "#e6f5d0"
            ],
            [
             0.7,
             "#b8e186"
            ],
            [
             0.8,
             "#7fbc41"
            ],
            [
             0.9,
             "#4d9221"
            ],
            [
             1,
             "#276419"
            ]
           ],
           "sequential": [
            [
             0,
             "#0d0887"
            ],
            [
             0.1111111111111111,
             "#46039f"
            ],
            [
             0.2222222222222222,
             "#7201a8"
            ],
            [
             0.3333333333333333,
             "#9c179e"
            ],
            [
             0.4444444444444444,
             "#bd3786"
            ],
            [
             0.5555555555555556,
             "#d8576b"
            ],
            [
             0.6666666666666666,
             "#ed7953"
            ],
            [
             0.7777777777777778,
             "#fb9f3a"
            ],
            [
             0.8888888888888888,
             "#fdca26"
            ],
            [
             1,
             "#f0f921"
            ]
           ],
           "sequentialminus": [
            [
             0,
             "#0d0887"
            ],
            [
             0.1111111111111111,
             "#46039f"
            ],
            [
             0.2222222222222222,
             "#7201a8"
            ],
            [
             0.3333333333333333,
             "#9c179e"
            ],
            [
             0.4444444444444444,
             "#bd3786"
            ],
            [
             0.5555555555555556,
             "#d8576b"
            ],
            [
             0.6666666666666666,
             "#ed7953"
            ],
            [
             0.7777777777777778,
             "#fb9f3a"
            ],
            [
             0.8888888888888888,
             "#fdca26"
            ],
            [
             1,
             "#f0f921"
            ]
           ]
          },
          "colorway": [
           "#636efa",
           "#EF553B",
           "#00cc96",
           "#ab63fa",
           "#FFA15A",
           "#19d3f3",
           "#FF6692",
           "#B6E880",
           "#FF97FF",
           "#FECB52"
          ],
          "font": {
           "color": "#2a3f5f"
          },
          "geo": {
           "bgcolor": "white",
           "lakecolor": "white",
           "landcolor": "#E5ECF6",
           "showlakes": true,
           "showland": true,
           "subunitcolor": "white"
          },
          "hoverlabel": {
           "align": "left"
          },
          "hovermode": "closest",
          "mapbox": {
           "style": "light"
          },
          "paper_bgcolor": "white",
          "plot_bgcolor": "#E5ECF6",
          "polar": {
           "angularaxis": {
            "gridcolor": "white",
            "linecolor": "white",
            "ticks": ""
           },
           "bgcolor": "#E5ECF6",
           "radialaxis": {
            "gridcolor": "white",
            "linecolor": "white",
            "ticks": ""
           }
          },
          "scene": {
           "xaxis": {
            "backgroundcolor": "#E5ECF6",
            "gridcolor": "white",
            "gridwidth": 2,
            "linecolor": "white",
            "showbackground": true,
            "ticks": "",
            "zerolinecolor": "white"
           },
           "yaxis": {
            "backgroundcolor": "#E5ECF6",
            "gridcolor": "white",
            "gridwidth": 2,
            "linecolor": "white",
            "showbackground": true,
            "ticks": "",
            "zerolinecolor": "white"
           },
           "zaxis": {
            "backgroundcolor": "#E5ECF6",
            "gridcolor": "white",
            "gridwidth": 2,
            "linecolor": "white",
            "showbackground": true,
            "ticks": "",
            "zerolinecolor": "white"
           }
          },
          "shapedefaults": {
           "line": {
            "color": "#2a3f5f"
           }
          },
          "ternary": {
           "aaxis": {
            "gridcolor": "white",
            "linecolor": "white",
            "ticks": ""
           },
           "baxis": {
            "gridcolor": "white",
            "linecolor": "white",
            "ticks": ""
           },
           "bgcolor": "#E5ECF6",
           "caxis": {
            "gridcolor": "white",
            "linecolor": "white",
            "ticks": ""
           }
          },
          "title": {
           "x": 0.05
          },
          "xaxis": {
           "automargin": true,
           "gridcolor": "white",
           "linecolor": "white",
           "ticks": "",
           "title": {
            "standoff": 15
           },
           "zerolinecolor": "white",
           "zerolinewidth": 2
          },
          "yaxis": {
           "automargin": true,
           "gridcolor": "white",
           "linecolor": "white",
           "ticks": "",
           "title": {
            "standoff": 15
           },
           "zerolinecolor": "white",
           "zerolinewidth": 2
          }
         }
        },
        "title": {
         "text": "Root Cause Overview"
        },
        "width": 1000,
        "xaxis": {
         "range": [
          -1.3,
          1.3
         ],
         "showgrid": false
        },
        "yaxis": {
         "range": [
          -1.2,
          1.2
         ],
         "showgrid": false
        }
       }
      },
      "text/html": [
       "<div>                            <div id=\"6bf05f9c-2e7c-4426-b5b7-1f2327ff395d\" class=\"plotly-graph-div\" style=\"height:1100px; width:1000px;\"></div>            <script type=\"text/javascript\">                require([\"plotly\"], function(Plotly) {                    window.PLOTLYENV=window.PLOTLYENV || {};                                    if (document.getElementById(\"6bf05f9c-2e7c-4426-b5b7-1f2327ff395d\")) {                    Plotly.newPlot(                        \"6bf05f9c-2e7c-4426-b5b7-1f2327ff395d\",                        [{\"hoverinfo\":\"none\",\"line\":{\"color\":\"cadetblue\",\"width\":0.75},\"mode\":\"lines\",\"opacity\":1,\"x\":[1.0,-0.19253106360283606,null,1.0,-0.08870953800793763,null,1.0,-0.31587992731758463,null,1.0,0.2756968426448936,null,1.0,-0.22652389570367945,null,0.7071067811865476,0.2756968426448936,null,0.7071067811865476,0.31787879408257175,null,0.7071067811865476,-0.2031558487284403,null,0.7071067811865476,0.17526278529930572,null,-0.7071067811865475,-0.22652389570367945,null,-0.7071067811865475,0.03664586316682148,null,-0.7071067811865475,0.30469293616740584,null,-0.7071067811865475,0.2756968426448936,null,-1.0,0.17526278529930572,null,-1.0,0.0764524974681519,null,-0.7071067811865477,0.3278021703599268,null,-0.7071067811865477,0.0764524974681519,null,-0.7071067811865477,-0.31587992731758463,null,-0.7071067811865477,0.2756968426448936,null],\"y\":[0.0,-0.2708300734892861,null,0.0,-0.32986939707243335,null,0.0,0.04623016156131226,null,0.0,0.16098603419824362,null,0.0,-0.21647073004262138,null,0.7071067811865476,0.16098603419824362,null,0.7071067811865476,-0.11858925008554082,null,0.7071067811865476,0.2829622873583427,null,0.7071067811865476,-0.26764723787226224,null,0.7071067811865476,-0.21647073004262138,null,0.7071067811865476,0.33783171134851436,null,0.7071067811865476,0.0753064580116259,null,0.7071067811865476,0.16098603419824362,null,1.2246467991473532e-16,-0.26764723787226224,null,1.2246467991473532e-16,0.26518020342212484,null,-0.7071067811865475,0.1263763241801044,null,-0.7071067811865475,0.26518020342212484,null,-0.7071067811865475,0.04623016156131226,null,-0.7071067811865475,0.16098603419824362,null],\"type\":\"scatter\"},{\"hoverinfo\":\"none\",\"line\":{\"color\":\"steelblue\",\"width\":0.75},\"mode\":\"lines\",\"opacity\":1,\"x\":[-1.8369701987210297e-16,-0.22652389570367945,null,-1.8369701987210297e-16,0.17526278529930572,null,-1.8369701987210297e-16,-0.19253106360283606,null,-1.8369701987210297e-16,0.31787879408257175,null,-1.8369701987210297e-16,0.01665924406188511,null,-1.8369701987210297e-16,0.03664586316682148,null],\"y\":[-1.0,-0.21647073004262138,null,-1.0,-0.26764723787226224,null,-1.0,-0.2708300734892861,null,-1.0,-0.11858925008554082,null,-1.0,-0.3494304911195122,null,-1.0,0.33783171134851436,null],\"type\":\"scatter\"},{\"hoverinfo\":\"none\",\"line\":{\"color\":\"red\",\"width\":0.75},\"mode\":\"lines\",\"opacity\":1,\"x\":[-0.08963796286696701,1.0,null,-0.08963796286696701,6.123233995736766e-17,null,-0.08963796286696701,-0.7071067811865477,null,0.26649530922319836,6.123233995736766e-17,null,0.26649530922319836,1.0,null,0.26649530922319836,-0.7071067811865477,null,-0.3247417617176068,-1.0,null,-0.3247417617176068,1.0,null,-0.3011568913822895,-1.0,null,-0.3011568913822895,6.123233995736766e-17,null,-0.3011568913822895,1.0,null],\"y\":[0.3323791325270762,0.0,null,0.3323791325270762,1.0,null,0.3323791325270762,-0.7071067811865475,null,-0.21886680382475868,1.0,null,-0.21886680382475868,0.0,null,-0.21886680382475868,-0.7071067811865475,null,-0.009447263025425826,1.2246467991473532e-16,null,-0.009447263025425826,0.0,null,0.16961893365779585,1.2246467991473532e-16,null,0.16961893365779585,1.0,null,0.16961893365779585,0.0,null],\"type\":\"scatter\"},{\"hoverinfo\":\"none\",\"line\":{\"color\":\"red\",\"width\":0.75},\"mode\":\"lines\",\"opacity\":1,\"x\":[-0.08963796286696701,0.7071067811865474,null,0.26649530922319836,0.7071067811865474,null,-0.3247417617176068,0.7071067811865474,null,-0.3011568913822895,0.7071067811865474,null],\"y\":[0.3323791325270762,-0.7071067811865477,null,-0.21886680382475868,-0.7071067811865477,null,-0.009447263025425826,-0.7071067811865477,null,0.16961893365779585,-0.7071067811865477,null],\"type\":\"scatter\"},{\"hoverinfo\":\"text\",\"hovertext\":[\"Name: A<br>Type: switch<br>Unhealthy: 4 out of 9\",\"Name: B<br>Type: switch<br>Unhealthy: 0 out of 4\",\"Name: C<br>Type: switch<br>Unhealthy: 3 out of 3\",\"Name: D<br>Type: switch<br>Unhealthy: 0 out of 4\",\"Name: E<br>Type: switch<br>Unhealthy: 2 out of 4\",\"Name: F<br>Type: switch<br>Unhealthy: 2 out of 6\"],\"marker\":{\"color\":\"cadetblue\",\"line\":{\"color\":\"cadetblue\",\"width\":6},\"opacity\":1,\"size\":[90,40,30,40,40,60],\"symbol\":\"circle\"},\"mode\":\"markers+text\",\"text\":[\"Name: A<br>Type: switch<br>Unhealthy: 4 out of 9\",\"Name: B<br>Type: switch<br>Unhealthy: 0 out of 4\",\"Name: C<br>Type: switch<br>Unhealthy: 3 out of 3\",\"Name: D<br>Type: switch<br>Unhealthy: 0 out of 4\",\"Name: E<br>Type: switch<br>Unhealthy: 2 out of 4\",\"Name: F<br>Type: switch<br>Unhealthy: 2 out of 6\"],\"textposition\":\"top center\",\"x\":[1.0,0.7071067811865476,6.123233995736766e-17,-0.7071067811865475,-1.0,-0.7071067811865477],\"y\":[0.0,0.7071067811865476,1.0,0.7071067811865476,1.2246467991473532e-16,-0.7071067811865475],\"type\":\"scatter\"},{\"hoverinfo\":\"text\",\"hovertext\":[\"Name: G<br>Type: UPS<br>Unhealthy: 0 out of 6\",\"Name: H<br>Type: UPS<br>Unhealthy: 4 out of 4\"],\"marker\":{\"color\":\"steelblue\",\"line\":{\"color\":\"steelblue\",\"width\":6},\"opacity\":1,\"size\":[60,40]},\"mode\":\"markers+text\",\"text\":[\"Name: G<br>Type: UPS<br>Unhealthy: 0 out of 6\",\"Name: H<br>Type: UPS<br>Unhealthy: 4 out of 4\"],\"textposition\":\"top center\",\"x\":[-1.8369701987210297e-16,0.7071067811865474],\"y\":[-1.0,-0.7071067811865477],\"type\":\"scatter\"},{\"hoverinfo\":\"text\",\"hovertext\":[\"2\",\"4\",\"5\",\"6\",\"7\",\"9\",\"21\",\"22\",\"24\",\"26\",\"27\",\"25\",\"8\"],\"marker\":{\"color\":\"green\",\"line\":{\"color\":\"green\",\"width\":1},\"opacity\":1,\"size\":8,\"symbol\":\"circle\"},\"mode\":\"markers+text\",\"text\":[\"2\",\"4\",\"5\",\"6\",\"7\",\"9\",\"21\",\"22\",\"24\",\"26\",\"27\",\"25\",\"8\"],\"textposition\":\"top center\",\"x\":[0.2756968426448936,-0.22652389570367945,0.17526278529930572,-0.19253106360283606,0.31787879408257175,0.03664586316682148,-0.08870953800793763,-0.2031558487284403,0.30469293616740584,0.0764524974681519,-0.31587992731758463,0.3278021703599268,0.01665924406188511],\"y\":[0.16098603419824362,-0.21647073004262138,-0.26764723787226224,-0.2708300734892861,-0.11858925008554082,0.33783171134851436,-0.32986939707243335,0.2829622873583427,0.0753064580116259,0.26518020342212484,0.04623016156131226,0.1263763241801044,-0.3494304911195122],\"type\":\"scatter\"},{\"hoverinfo\":\"text\",\"hovertext\":[\"1\",\"3\",\"10\",\"23\"],\"marker\":{\"color\":\"red\",\"line\":{\"color\":\"red\",\"width\":1},\"opacity\":1,\"size\":8,\"symbol\":\"circle\"},\"mode\":\"markers+text\",\"text\":[\"1\",\"3\",\"10\",\"23\"],\"textposition\":\"top center\",\"x\":[-0.08963796286696701,0.26649530922319836,-0.3247417617176068,-0.3011568913822895],\"y\":[0.3323791325270762,-0.21886680382475868,-0.009447263025425826,0.16961893365779585],\"type\":\"scatter\"}],                        {\"height\":1100,\"hoverlabel\":{\"bgcolor\":\"white\",\"font\":{\"family\":\"Rockwell\",\"size\":26}},\"hovermode\":\"closest\",\"showlegend\":false,\"title\":{\"text\":\"Root Cause Overview\"},\"width\":1000,\"xaxis\":{\"range\":[-1.3,1.3],\"showgrid\":false},\"yaxis\":{\"range\":[-1.2,1.2],\"showgrid\":false},\"template\":{\"data\":{\"histogram2dcontour\":[{\"type\":\"histogram2dcontour\",\"colorbar\":{\"outlinewidth\":0,\"ticks\":\"\"},\"colorscale\":[[0.0,\"#0d0887\"],[0.1111111111111111,\"#46039f\"],[0.2222222222222222,\"#7201a8\"],[0.3333333333333333,\"#9c179e\"],[0.4444444444444444,\"#bd3786\"],[0.5555555555555556,\"#d8576b\"],[0.6666666666666666,\"#ed7953\"],[0.7777777777777778,\"#fb9f3a\"],[0.8888888888888888,\"#fdca26\"],[1.0,\"#f0f921\"]]}],\"choropleth\":[{\"type\":\"choropleth\",\"colorbar\":{\"outlinewidth\":0,\"ticks\":\"\"}}],\"histogram2d\":[{\"type\":\"histogram2d\",\"colorbar\":{\"outlinewidth\":0,\"ticks\":\"\"},\"colorscale\":[[0.0,\"#0d0887\"],[0.1111111111111111,\"#46039f\"],[0.2222222222222222,\"#7201a8\"],[0.3333333333333333,\"#9c179e\"],[0.4444444444444444,\"#bd3786\"],[0.5555555555555556,\"#d8576b\"],[0.6666666666666666,\"#ed7953\"],[0.7777777777777778,\"#fb9f3a\"],[0.8888888888888888,\"#fdca26\"],[1.0,\"#f0f921\"]]}],\"heatmap\":[{\"type\":\"heatmap\",\"colorbar\":{\"outlinewidth\":0,\"ticks\":\"\"},\"colorscale\":[[0.0,\"#0d0887\"],[0.1111111111111111,\"#46039f\"],[0.2222222222222222,\"#7201a8\"],[0.3333333333333333,\"#9c179e\"],[0.4444444444444444,\"#bd3786\"],[0.5555555555555556,\"#d8576b\"],[0.6666666666666666,\"#ed7953\"],[0.7777777777777778,\"#fb9f3a\"],[0.8888888888888888,\"#fdca26\"],[1.0,\"#f0f921\"]]}],\"heatmapgl\":[{\"type\":\"heatmapgl\",\"colorbar\":{\"outlinewidth\":0,\"ticks\":\"\"},\"colorscale\":[[0.0,\"#0d0887\"],[0.1111111111111111,\"#46039f\"],[0.2222222222222222,\"#7201a8\"],[0.3333333333333333,\"#9c179e\"],[0.4444444444444444,\"#bd3786\"],[0.5555555555555556,\"#d8576b\"],[0.6666666666666666,\"#ed7953\"],[0.7777777777777778,\"#fb9f3a\"],[0.8888888888888888,\"#fdca26\"],[1.0,\"#f0f921\"]]}],\"contourcarpet\":[{\"type\":\"contourcarpet\",\"colorbar\":{\"outlinewidth\":0,\"ticks\":\"\"}}],\"contour\":[{\"type\":\"contour\",\"colorbar\":{\"outlinewidth\":0,\"ticks\":\"\"},\"colorscale\":[[0.0,\"#0d0887\"],[0.1111111111111111,\"#46039f\"],[0.2222222222222222,\"#7201a8\"],[0.3333333333333333,\"#9c179e\"],[0.4444444444444444,\"#bd3786\"],[0.5555555555555556,\"#d8576b\"],[0.6666666666666666,\"#ed7953\"],[0.7777777777777778,\"#fb9f3a\"],[0.8888888888888888,\"#fdca26\"],[1.0,\"#f0f921\"]]}],\"surface\":[{\"type\":\"surface\",\"colorbar\":{\"outlinewidth\":0,\"ticks\":\"\"},\"colorscale\":[[0.0,\"#0d0887\"],[0.1111111111111111,\"#46039f\"],[0.2222222222222222,\"#7201a8\"],[0.3333333333333333,\"#9c179e\"],[0.4444444444444444,\"#bd3786\"],[0.5555555555555556,\"#d8576b\"],[0.6666666666666666,\"#ed7953\"],[0.7777777777777778,\"#fb9f3a\"],[0.8888888888888888,\"#fdca26\"],[1.0,\"#f0f921\"]]}],\"mesh3d\":[{\"type\":\"mesh3d\",\"colorbar\":{\"outlinewidth\":0,\"ticks\":\"\"}}],\"scatter\":[{\"fillpattern\":{\"fillmode\":\"overlay\",\"size\":10,\"solidity\":0.2},\"type\":\"scatter\"}],\"parcoords\":[{\"type\":\"parcoords\",\"line\":{\"colorbar\":{\"outlinewidth\":0,\"ticks\":\"\"}}}],\"scatterpolargl\":[{\"type\":\"scatterpolargl\",\"marker\":{\"colorbar\":{\"outlinewidth\":0,\"ticks\":\"\"}}}],\"bar\":[{\"error_x\":{\"color\":\"#2a3f5f\"},\"error_y\":{\"color\":\"#2a3f5f\"},\"marker\":{\"line\":{\"color\":\"#E5ECF6\",\"width\":0.5},\"pattern\":{\"fillmode\":\"overlay\",\"size\":10,\"solidity\":0.2}},\"type\":\"bar\"}],\"scattergeo\":[{\"type\":\"scattergeo\",\"marker\":{\"colorbar\":{\"outlinewidth\":0,\"ticks\":\"\"}}}],\"scatterpolar\":[{\"type\":\"scatterpolar\",\"marker\":{\"colorbar\":{\"outlinewidth\":0,\"ticks\":\"\"}}}],\"histogram\":[{\"marker\":{\"pattern\":{\"fillmode\":\"overlay\",\"size\":10,\"solidity\":0.2}},\"type\":\"histogram\"}],\"scattergl\":[{\"type\":\"scattergl\",\"marker\":{\"colorbar\":{\"outlinewidth\":0,\"ticks\":\"\"}}}],\"scatter3d\":[{\"type\":\"scatter3d\",\"line\":{\"colorbar\":{\"outlinewidth\":0,\"ticks\":\"\"}},\"marker\":{\"colorbar\":{\"outlinewidth\":0,\"ticks\":\"\"}}}],\"scattermapbox\":[{\"type\":\"scattermapbox\",\"marker\":{\"colorbar\":{\"outlinewidth\":0,\"ticks\":\"\"}}}],\"scatterternary\":[{\"type\":\"scatterternary\",\"marker\":{\"colorbar\":{\"outlinewidth\":0,\"ticks\":\"\"}}}],\"scattercarpet\":[{\"type\":\"scattercarpet\",\"marker\":{\"colorbar\":{\"outlinewidth\":0,\"ticks\":\"\"}}}],\"carpet\":[{\"aaxis\":{\"endlinecolor\":\"#2a3f5f\",\"gridcolor\":\"white\",\"linecolor\":\"white\",\"minorgridcolor\":\"white\",\"startlinecolor\":\"#2a3f5f\"},\"baxis\":{\"endlinecolor\":\"#2a3f5f\",\"gridcolor\":\"white\",\"linecolor\":\"white\",\"minorgridcolor\":\"white\",\"startlinecolor\":\"#2a3f5f\"},\"type\":\"carpet\"}],\"table\":[{\"cells\":{\"fill\":{\"color\":\"#EBF0F8\"},\"line\":{\"color\":\"white\"}},\"header\":{\"fill\":{\"color\":\"#C8D4E3\"},\"line\":{\"color\":\"white\"}},\"type\":\"table\"}],\"barpolar\":[{\"marker\":{\"line\":{\"color\":\"#E5ECF6\",\"width\":0.5},\"pattern\":{\"fillmode\":\"overlay\",\"size\":10,\"solidity\":0.2}},\"type\":\"barpolar\"}],\"pie\":[{\"automargin\":true,\"type\":\"pie\"}]},\"layout\":{\"autotypenumbers\":\"strict\",\"colorway\":[\"#636efa\",\"#EF553B\",\"#00cc96\",\"#ab63fa\",\"#FFA15A\",\"#19d3f3\",\"#FF6692\",\"#B6E880\",\"#FF97FF\",\"#FECB52\"],\"font\":{\"color\":\"#2a3f5f\"},\"hovermode\":\"closest\",\"hoverlabel\":{\"align\":\"left\"},\"paper_bgcolor\":\"white\",\"plot_bgcolor\":\"#E5ECF6\",\"polar\":{\"bgcolor\":\"#E5ECF6\",\"angularaxis\":{\"gridcolor\":\"white\",\"linecolor\":\"white\",\"ticks\":\"\"},\"radialaxis\":{\"gridcolor\":\"white\",\"linecolor\":\"white\",\"ticks\":\"\"}},\"ternary\":{\"bgcolor\":\"#E5ECF6\",\"aaxis\":{\"gridcolor\":\"white\",\"linecolor\":\"white\",\"ticks\":\"\"},\"baxis\":{\"gridcolor\":\"white\",\"linecolor\":\"white\",\"ticks\":\"\"},\"caxis\":{\"gridcolor\":\"white\",\"linecolor\":\"white\",\"ticks\":\"\"}},\"coloraxis\":{\"colorbar\":{\"outlinewidth\":0,\"ticks\":\"\"}},\"colorscale\":{\"sequential\":[[0.0,\"#0d0887\"],[0.1111111111111111,\"#46039f\"],[0.2222222222222222,\"#7201a8\"],[0.3333333333333333,\"#9c179e\"],[0.4444444444444444,\"#bd3786\"],[0.5555555555555556,\"#d8576b\"],[0.6666666666666666,\"#ed7953\"],[0.7777777777777778,\"#fb9f3a\"],[0.8888888888888888,\"#fdca26\"],[1.0,\"#f0f921\"]],\"sequentialminus\":[[0.0,\"#0d0887\"],[0.1111111111111111,\"#46039f\"],[0.2222222222222222,\"#7201a8\"],[0.3333333333333333,\"#9c179e\"],[0.4444444444444444,\"#bd3786\"],[0.5555555555555556,\"#d8576b\"],[0.6666666666666666,\"#ed7953\"],[0.7777777777777778,\"#fb9f3a\"],[0.8888888888888888,\"#fdca26\"],[1.0,\"#f0f921\"]],\"diverging\":[[0,\"#8e0152\"],[0.1,\"#c51b7d\"],[0.2,\"#de77ae\"],[0.3,\"#f1b6da\"],[0.4,\"#fde0ef\"],[0.5,\"#f7f7f7\"],[0.6,\"#e6f5d0\"],[0.7,\"#b8e186\"],[0.8,\"#7fbc41\"],[0.9,\"#4d9221\"],[1,\"#276419\"]]},\"xaxis\":{\"gridcolor\":\"white\",\"linecolor\":\"white\",\"ticks\":\"\",\"title\":{\"standoff\":15},\"zerolinecolor\":\"white\",\"automargin\":true,\"zerolinewidth\":2},\"yaxis\":{\"gridcolor\":\"white\",\"linecolor\":\"white\",\"ticks\":\"\",\"title\":{\"standoff\":15},\"zerolinecolor\":\"white\",\"automargin\":true,\"zerolinewidth\":2},\"scene\":{\"xaxis\":{\"backgroundcolor\":\"#E5ECF6\",\"gridcolor\":\"white\",\"linecolor\":\"white\",\"showbackground\":true,\"ticks\":\"\",\"zerolinecolor\":\"white\",\"gridwidth\":2},\"yaxis\":{\"backgroundcolor\":\"#E5ECF6\",\"gridcolor\":\"white\",\"linecolor\":\"white\",\"showbackground\":true,\"ticks\":\"\",\"zerolinecolor\":\"white\",\"gridwidth\":2},\"zaxis\":{\"backgroundcolor\":\"#E5ECF6\",\"gridcolor\":\"white\",\"linecolor\":\"white\",\"showbackground\":true,\"ticks\":\"\",\"zerolinecolor\":\"white\",\"gridwidth\":2}},\"shapedefaults\":{\"line\":{\"color\":\"#2a3f5f\"}},\"annotationdefaults\":{\"arrowcolor\":\"#2a3f5f\",\"arrowhead\":0,\"arrowwidth\":1},\"geo\":{\"bgcolor\":\"white\",\"landcolor\":\"#E5ECF6\",\"subunitcolor\":\"white\",\"showland\":true,\"showlakes\":true,\"lakecolor\":\"white\"},\"title\":{\"x\":0.05},\"mapbox\":{\"style\":\"light\"}}}},                        {\"responsive\": true}                    ).then(function(){\n",
       "                            \n",
       "var gd = document.getElementById('6bf05f9c-2e7c-4426-b5b7-1f2327ff395d');\n",
       "var x = new MutationObserver(function (mutations, observer) {{\n",
       "        var display = window.getComputedStyle(gd).display;\n",
       "        if (!display || display === 'none') {{\n",
       "            console.log([gd, 'removed!']);\n",
       "            Plotly.purge(gd);\n",
       "            observer.disconnect();\n",
       "        }}\n",
       "}});\n",
       "\n",
       "// Listen for the removal of the full notebook cells\n",
       "var notebookContainer = gd.closest('#notebook-container');\n",
       "if (notebookContainer) {{\n",
       "    x.observe(notebookContainer, {childList: true});\n",
       "}}\n",
       "\n",
       "// Listen for the clearing of the current output cell\n",
       "var outputEl = gd.closest('.output');\n",
       "if (outputEl) {{\n",
       "    x.observe(outputEl, {childList: true});\n",
       "}}\n",
       "\n",
       "                        })                };                });            </script>        </div>"
      ]
     },
     "metadata": {},
     "output_type": "display_data"
    }
   ],
   "source": [
    "# plot figure:\n",
    "fig = go.Figure(data=display_data, layout=layout)\n",
    "    \n",
    "fig.show()"
   ]
  },
  {
   "cell_type": "code",
   "execution_count": 66,
   "id": "91295591",
   "metadata": {},
   "outputs": [],
   "source": [
    "# Add color map to emphysize how healthy are the dependant devices\n",
    "coloscale_name = \"YlOrBr\"\n",
    "cmap = plt.cm.get_cmap(coloscale_name)\n",
    "cm_s = cmap((stats_switch.avaliability_percent / 100 * 256).astype(int).values) * 256 \n",
    "cm_ups = cmap((stats_ups.avaliability_percent / 100 * 256).astype(int).values) * 256 "
   ]
  },
  {
   "cell_type": "code",
   "execution_count": 67,
   "id": "a3ce1c72",
   "metadata": {},
   "outputs": [],
   "source": [
    "# Define attributes for each graphic group:\n",
    "graphic_group_s.node_color_outline = ['rgba(%d, %d, %d, 1)' % (i[0], i[1], i[2]) for i in cm_s]\n",
    "graphic_group_ups.node_color_outline = ['rgba(%d, %d, %d, 1)' % (i[0], i[1], i[2]) for i in cm_ups]"
   ]
  },
  {
   "cell_type": "code",
   "execution_count": 68,
   "id": "199cd4eb",
   "metadata": {},
   "outputs": [],
   "source": [
    "_, trace_nodes_s = get_traces(graphic_group_s)\n",
    "_, trace_nodes_ups = get_traces(graphic_group_ups)"
   ]
  },
  {
   "cell_type": "code",
   "execution_count": 69,
   "id": "e4fcd60a",
   "metadata": {},
   "outputs": [],
   "source": [
    "colorbar_trace = go.Scatter(x=[None],\n",
    "                            y=[None],\n",
    "                            mode='markers',\n",
    "                            marker=dict(\n",
    "                                colorscale=coloscale_name,\n",
    "                                showscale=True,\n",
    "                                cmin=-5,\n",
    "                                cmax=5,\n",
    "                                colorbar=dict(title='UNHEALTHY',\n",
    "                                              thickness=25,\n",
    "                                              tickvals=[-5, -2.5, 0, 2.5, 5],\n",
    "                                              ticktext=['0%', '25%', '50%', '75%', '100% '],\n",
    "                                              outlinewidth=0)\n",
    "                            ),\n",
    "                            hoverinfo='none'\n",
    "    )"
   ]
  },
  {
   "cell_type": "code",
   "execution_count": 70,
   "id": "e5da9ed7",
   "metadata": {},
   "outputs": [],
   "source": [
    "# assemble all graphic objects to an array of all display data:\n",
    "display_data = [                   \n",
    "        trace_edges_s,\n",
    "        trace_edges_ups,\n",
    "        trace_edges_s_uh,\n",
    "        trace_edges_ups_uh,\n",
    "        trace_nodes_s,\n",
    "        trace_nodes_ups,  \n",
    "        trace_nodes_devs,\n",
    "        trace_nodes_devs_uh,\n",
    "        colorbar_trace\n",
    "    ]"
   ]
  },
  {
   "cell_type": "code",
   "execution_count": 71,
   "id": "2f9f5e04",
   "metadata": {},
   "outputs": [],
   "source": [
    "fig = go.Figure(data=display_data, layout=layout)\n",
    "\n",
    "for i in range(len(x_nodes_ups)):\n",
    "    fig.add_layout_image(\n",
    "            dict(\n",
    "                source=Image.open(\"UPS.png\"),\n",
    "                xref=\"x\",\n",
    "                yref=\"y\",\n",
    "                xanchor=\"center\",\n",
    "                yanchor=\"middle\",\n",
    "                x=x_nodes_ups[i]*1,\n",
    "                y=y_nodes_ups[i]*1,\n",
    "                sizex=0.025*deg_ups[i],\n",
    "                sizey=0.025*deg_ups[i],\n",
    "                sizing=\"contain\",\n",
    "                opacity=0.8,\n",
    "                layer=\"above\"\n",
    "            )\n",
    "        )\n",
    "\n",
    "\n",
    "for i in range(len(x_nodes_s)):\n",
    "    fig.add_layout_image(\n",
    "            dict(\n",
    "                source=Image.open(\"switch.png\"),\n",
    "                xref=\"x\",\n",
    "                yref=\"y\",\n",
    "                xanchor=\"center\",\n",
    "                yanchor=\"middle\",\n",
    "                x=x_nodes_s[i]*1,\n",
    "                y=y_nodes_s[i]*1,\n",
    "                sizex=0.03*deg_s[i],\n",
    "                sizey=0.03*deg_s[i],\n",
    "                sizing=\"contain\",\n",
    "                opacity=0.8,\n",
    "                layer=\"above\"            )\n",
    "        )"
   ]
  },
  {
   "cell_type": "code",
   "execution_count": 72,
   "id": "8abf0225",
   "metadata": {
    "scrolled": false
   },
   "outputs": [
    {
     "data": {
      "application/vnd.plotly.v1+json": {
       "config": {
        "plotlyServerURL": "https://plot.ly"
       },
       "data": [
        {
         "hoverinfo": "none",
         "line": {
          "color": "cadetblue",
          "width": 0.75
         },
         "mode": "lines",
         "opacity": 1,
         "type": "scatter",
         "x": [
          1,
          -0.19253106360283606,
          null,
          1,
          -0.08870953800793763,
          null,
          1,
          -0.31587992731758463,
          null,
          1,
          0.2756968426448936,
          null,
          1,
          -0.22652389570367945,
          null,
          0.7071067811865476,
          0.2756968426448936,
          null,
          0.7071067811865476,
          0.31787879408257175,
          null,
          0.7071067811865476,
          -0.2031558487284403,
          null,
          0.7071067811865476,
          0.17526278529930572,
          null,
          -0.7071067811865475,
          -0.22652389570367945,
          null,
          -0.7071067811865475,
          0.03664586316682148,
          null,
          -0.7071067811865475,
          0.30469293616740584,
          null,
          -0.7071067811865475,
          0.2756968426448936,
          null,
          -1,
          0.17526278529930572,
          null,
          -1,
          0.0764524974681519,
          null,
          -0.7071067811865477,
          0.3278021703599268,
          null,
          -0.7071067811865477,
          0.0764524974681519,
          null,
          -0.7071067811865477,
          -0.31587992731758463,
          null,
          -0.7071067811865477,
          0.2756968426448936,
          null
         ],
         "y": [
          0,
          -0.2708300734892861,
          null,
          0,
          -0.32986939707243335,
          null,
          0,
          0.04623016156131226,
          null,
          0,
          0.16098603419824362,
          null,
          0,
          -0.21647073004262138,
          null,
          0.7071067811865476,
          0.16098603419824362,
          null,
          0.7071067811865476,
          -0.11858925008554082,
          null,
          0.7071067811865476,
          0.2829622873583427,
          null,
          0.7071067811865476,
          -0.26764723787226224,
          null,
          0.7071067811865476,
          -0.21647073004262138,
          null,
          0.7071067811865476,
          0.33783171134851436,
          null,
          0.7071067811865476,
          0.0753064580116259,
          null,
          0.7071067811865476,
          0.16098603419824362,
          null,
          1.2246467991473532e-16,
          -0.26764723787226224,
          null,
          1.2246467991473532e-16,
          0.26518020342212484,
          null,
          -0.7071067811865475,
          0.1263763241801044,
          null,
          -0.7071067811865475,
          0.26518020342212484,
          null,
          -0.7071067811865475,
          0.04623016156131226,
          null,
          -0.7071067811865475,
          0.16098603419824362,
          null
         ]
        },
        {
         "hoverinfo": "none",
         "line": {
          "color": "steelblue",
          "width": 0.75
         },
         "mode": "lines",
         "opacity": 1,
         "type": "scatter",
         "x": [
          -1.8369701987210297e-16,
          -0.22652389570367945,
          null,
          -1.8369701987210297e-16,
          0.17526278529930572,
          null,
          -1.8369701987210297e-16,
          -0.19253106360283606,
          null,
          -1.8369701987210297e-16,
          0.31787879408257175,
          null,
          -1.8369701987210297e-16,
          0.01665924406188511,
          null,
          -1.8369701987210297e-16,
          0.03664586316682148,
          null
         ],
         "y": [
          -1,
          -0.21647073004262138,
          null,
          -1,
          -0.26764723787226224,
          null,
          -1,
          -0.2708300734892861,
          null,
          -1,
          -0.11858925008554082,
          null,
          -1,
          -0.3494304911195122,
          null,
          -1,
          0.33783171134851436,
          null
         ]
        },
        {
         "hoverinfo": "none",
         "line": {
          "color": "red",
          "width": 0.75
         },
         "mode": "lines",
         "opacity": 1,
         "type": "scatter",
         "x": [
          -0.08963796286696701,
          1,
          null,
          -0.08963796286696701,
          6.123233995736766e-17,
          null,
          -0.08963796286696701,
          -0.7071067811865477,
          null,
          0.26649530922319836,
          6.123233995736766e-17,
          null,
          0.26649530922319836,
          1,
          null,
          0.26649530922319836,
          -0.7071067811865477,
          null,
          -0.3247417617176068,
          -1,
          null,
          -0.3247417617176068,
          1,
          null,
          -0.3011568913822895,
          -1,
          null,
          -0.3011568913822895,
          6.123233995736766e-17,
          null,
          -0.3011568913822895,
          1,
          null
         ],
         "y": [
          0.3323791325270762,
          0,
          null,
          0.3323791325270762,
          1,
          null,
          0.3323791325270762,
          -0.7071067811865475,
          null,
          -0.21886680382475868,
          1,
          null,
          -0.21886680382475868,
          0,
          null,
          -0.21886680382475868,
          -0.7071067811865475,
          null,
          -0.009447263025425826,
          1.2246467991473532e-16,
          null,
          -0.009447263025425826,
          0,
          null,
          0.16961893365779585,
          1.2246467991473532e-16,
          null,
          0.16961893365779585,
          1,
          null,
          0.16961893365779585,
          0,
          null
         ]
        },
        {
         "hoverinfo": "none",
         "line": {
          "color": "red",
          "width": 0.75
         },
         "mode": "lines",
         "opacity": 1,
         "type": "scatter",
         "x": [
          -0.08963796286696701,
          0.7071067811865474,
          null,
          0.26649530922319836,
          0.7071067811865474,
          null,
          -0.3247417617176068,
          0.7071067811865474,
          null,
          -0.3011568913822895,
          0.7071067811865474,
          null
         ],
         "y": [
          0.3323791325270762,
          -0.7071067811865477,
          null,
          -0.21886680382475868,
          -0.7071067811865477,
          null,
          -0.009447263025425826,
          -0.7071067811865477,
          null,
          0.16961893365779585,
          -0.7071067811865477,
          null
         ]
        },
        {
         "hoverinfo": "text",
         "hovertext": [
          "Name: A<br>Type: switch<br>Unhealthy: 4 out of 9",
          "Name: B<br>Type: switch<br>Unhealthy: 0 out of 4",
          "Name: C<br>Type: switch<br>Unhealthy: 3 out of 3",
          "Name: D<br>Type: switch<br>Unhealthy: 0 out of 4",
          "Name: E<br>Type: switch<br>Unhealthy: 2 out of 4",
          "Name: F<br>Type: switch<br>Unhealthy: 2 out of 6"
         ],
         "marker": {
          "color": "cadetblue",
          "line": {
           "color": [
            "rgba(254, 173, 58, 1)",
            "rgba(256, 256, 229, 1)",
            "rgba(102, 37, 6, 1)",
            "rgba(256, 256, 229, 1)",
            "rgba(254, 152, 40, 1)",
            "rgba(254, 207, 101, 1)"
           ],
           "width": 6
          },
          "opacity": 1,
          "size": [
           90,
           40,
           30,
           40,
           40,
           60
          ],
          "symbol": "circle"
         },
         "mode": "markers+text",
         "text": [
          "Name: A<br>Type: switch<br>Unhealthy: 4 out of 9",
          "Name: B<br>Type: switch<br>Unhealthy: 0 out of 4",
          "Name: C<br>Type: switch<br>Unhealthy: 3 out of 3",
          "Name: D<br>Type: switch<br>Unhealthy: 0 out of 4",
          "Name: E<br>Type: switch<br>Unhealthy: 2 out of 4",
          "Name: F<br>Type: switch<br>Unhealthy: 2 out of 6"
         ],
         "textposition": "top center",
         "type": "scatter",
         "x": [
          1,
          0.7071067811865476,
          6.123233995736766e-17,
          -0.7071067811865475,
          -1,
          -0.7071067811865477
         ],
         "y": [
          0,
          0.7071067811865476,
          1,
          0.7071067811865476,
          1.2246467991473532e-16,
          -0.7071067811865475
         ]
        },
        {
         "hoverinfo": "text",
         "hovertext": [
          "Name: G<br>Type: UPS<br>Unhealthy: 0 out of 6",
          "Name: H<br>Type: UPS<br>Unhealthy: 4 out of 4"
         ],
         "marker": {
          "color": "steelblue",
          "line": {
           "color": [
            "rgba(256, 256, 229, 1)",
            "rgba(102, 37, 6, 1)"
           ],
           "width": 6
          },
          "opacity": 1,
          "size": [
           60,
           40
          ]
         },
         "mode": "markers+text",
         "text": [
          "Name: G<br>Type: UPS<br>Unhealthy: 0 out of 6",
          "Name: H<br>Type: UPS<br>Unhealthy: 4 out of 4"
         ],
         "textposition": "top center",
         "type": "scatter",
         "x": [
          -1.8369701987210297e-16,
          0.7071067811865474
         ],
         "y": [
          -1,
          -0.7071067811865477
         ]
        },
        {
         "hoverinfo": "text",
         "hovertext": [
          "2",
          "4",
          "5",
          "6",
          "7",
          "9",
          "21",
          "22",
          "24",
          "26",
          "27",
          "25",
          "8"
         ],
         "marker": {
          "color": "green",
          "line": {
           "color": "green",
           "width": 1
          },
          "opacity": 1,
          "size": 8,
          "symbol": "circle"
         },
         "mode": "markers+text",
         "text": [
          "2",
          "4",
          "5",
          "6",
          "7",
          "9",
          "21",
          "22",
          "24",
          "26",
          "27",
          "25",
          "8"
         ],
         "textposition": "top center",
         "type": "scatter",
         "x": [
          0.2756968426448936,
          -0.22652389570367945,
          0.17526278529930572,
          -0.19253106360283606,
          0.31787879408257175,
          0.03664586316682148,
          -0.08870953800793763,
          -0.2031558487284403,
          0.30469293616740584,
          0.0764524974681519,
          -0.31587992731758463,
          0.3278021703599268,
          0.01665924406188511
         ],
         "y": [
          0.16098603419824362,
          -0.21647073004262138,
          -0.26764723787226224,
          -0.2708300734892861,
          -0.11858925008554082,
          0.33783171134851436,
          -0.32986939707243335,
          0.2829622873583427,
          0.0753064580116259,
          0.26518020342212484,
          0.04623016156131226,
          0.1263763241801044,
          -0.3494304911195122
         ]
        },
        {
         "hoverinfo": "text",
         "hovertext": [
          "1",
          "3",
          "10",
          "23"
         ],
         "marker": {
          "color": "red",
          "line": {
           "color": "red",
           "width": 1
          },
          "opacity": 1,
          "size": 8,
          "symbol": "circle"
         },
         "mode": "markers+text",
         "text": [
          "1",
          "3",
          "10",
          "23"
         ],
         "textposition": "top center",
         "type": "scatter",
         "x": [
          -0.08963796286696701,
          0.26649530922319836,
          -0.3247417617176068,
          -0.3011568913822895
         ],
         "y": [
          0.3323791325270762,
          -0.21886680382475868,
          -0.009447263025425826,
          0.16961893365779585
         ]
        },
        {
         "hoverinfo": "none",
         "marker": {
          "cmax": 5,
          "cmin": -5,
          "colorbar": {
           "outlinewidth": 0,
           "thickness": 25,
           "ticktext": [
            "0%",
            "25%",
            "50%",
            "75%",
            "100% "
           ],
           "tickvals": [
            -5,
            -2.5,
            0,
            2.5,
            5
           ],
           "title": {
            "text": "UNHEALTHY"
           }
          },
          "colorscale": [
           [
            0,
            "rgb(255,255,229)"
           ],
           [
            0.125,
            "rgb(255,247,188)"
           ],
           [
            0.25,
            "rgb(254,227,145)"
           ],
           [
            0.375,
            "rgb(254,196,79)"
           ],
           [
            0.5,
            "rgb(254,153,41)"
           ],
           [
            0.625,
            "rgb(236,112,20)"
           ],
           [
            0.75,
            "rgb(204,76,2)"
           ],
           [
            0.875,
            "rgb(153,52,4)"
           ],
           [
            1,
            "rgb(102,37,6)"
           ]
          ],
          "showscale": true
         },
         "mode": "markers",
         "type": "scatter",
         "x": [
          null
         ],
         "y": [
          null
         ]
        }
       ],
       "layout": {
        "height": 1100,
        "hoverlabel": {
         "bgcolor": "white",
         "font": {
          "family": "Rockwell",
          "size": 26
         }
        },
        "hovermode": "closest",
        "images": [
         {
          "layer": "above",
          "opacity": 0.8,
          "sizex": 0.15000000000000002,
          "sizey": 0.15000000000000002,
          "sizing": "contain",
          "source": "data:image/png;base64,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",
          "x": -1.8369701987210297e-16,
          "xanchor": "center",
          "xref": "x",
          "y": -1,
          "yanchor": "middle",
          "yref": "y"
         },
         {
          "layer": "above",
          "opacity": 0.8,
          "sizex": 0.1,
          "sizey": 0.1,
          "sizing": "contain",
          "source": "data:image/png;base64,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",
          "x": 0.7071067811865474,
          "xanchor": "center",
          "xref": "x",
          "y": -0.7071067811865477,
          "yanchor": "middle",
          "yref": "y"
         },
         {
          "layer": "above",
          "opacity": 0.8,
          "sizex": 0.27,
          "sizey": 0.27,
          "sizing": "contain",
          "source": "data:image/png;base64,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",
          "x": 1,
          "xanchor": "center",
          "xref": "x",
          "y": 0,
          "yanchor": "middle",
          "yref": "y"
         },
         {
          "layer": "above",
          "opacity": 0.8,
          "sizex": 0.12,
          "sizey": 0.12,
          "sizing": "contain",
          "source": "data:image/png;base64,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",
          "x": 0.7071067811865476,
          "xanchor": "center",
          "xref": "x",
          "y": 0.7071067811865476,
          "yanchor": "middle",
          "yref": "y"
         },
         {
          "layer": "above",
          "opacity": 0.8,
          "sizex": 0.09,
          "sizey": 0.09,
          "sizing": "contain",
          "source": "data:image/png;base64,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",
          "x": 6.123233995736766e-17,
          "xanchor": "center",
          "xref": "x",
          "y": 1,
          "yanchor": "middle",
          "yref": "y"
         },
         {
          "layer": "above",
          "opacity": 0.8,
          "sizex": 0.12,
          "sizey": 0.12,
          "sizing": "contain",
          "source": "data:image/png;base64,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",
          "x": -0.7071067811865475,
          "xanchor": "center",
          "xref": "x",
          "y": 0.7071067811865476,
          "yanchor": "middle",
          "yref": "y"
         },
         {
          "layer": "above",
          "opacity": 0.8,
          "sizex": 0.12,
          "sizey": 0.12,
          "sizing": "contain",
          "source": "data:image/png;base64,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",
          "x": -1,
          "xanchor": "center",
          "xref": "x",
          "y": 1.2246467991473532e-16,
          "yanchor": "middle",
          "yref": "y"
         },
         {
          "layer": "above",
          "opacity": 0.8,
          "sizex": 0.18,
          "sizey": 0.18,
          "sizing": "contain",
          "source": "data:image/png;base64,iVBORw0KGgoAAAANSUhEUgAAAgAAAAIACAYAAAD0eNT6AAAeQElEQVR4nO3de7CsV1kn4N86OSEhBEi4KCQiDCIIiEICjIUTPCo6YLiViFgqKigqzgyClxEVlanSAhEvZckYmRoYvAAlioBcJg7lbGFGFAiCAS8g15gEJYFAMoRcOO/80R04JyRn9z69ur/evZ6n6qtKzul+17vX6d3r1/3dWlUFABjLgakbAADWTwAAgAEJAAAwIAEAAAYkAADAgAQAABiQAAAAAxIAAGBAAgAADEgAAIABCQAAMCABAAAGJAAAwIAEAAAYkAAAAAMSAABgQAIAAAxIAACAAQkAADAgAQAABiQAAMCABAAAGJAAAAADEgAAYEACAAAMSAAAgAEJAAAwIAEAAAYkAADAgAQAABiQAAAAAxIAAGBAAgAADEgAAIABCQAAMCABAAAGJAAAwIAEAAAYkAAAAAMSAABgQAIAAAxIAACAAQkAADAgAQAABiQAAMCABAAAGJAAAAADEgAAYEACAAAMSAAAgAEJAAAwIAEAAAYkAADAgAQAABiQAAAAAxIAAGBAAgAADEgAAIABCQAAMCABAAAGJAAAwIAEAAAYkAAAAAMSAABgQAIAAAxIAACAAQkAADAgAQAABiQAAMCABAAAGJAAAAADEgAAYEACAAAMSAAAgAEJAAAwIAEAAAYkAADAgAQAABiQAAAAAxIAAGBAAgAADEgAAIABCQAAMCABAAAGJAAAwIAEAAAYkAAAAAMSAABgQAIAAAxIAACAAQkAADAgAQAABiQAAMCABAAAGJAAAAADEgAAYEACAAAMSAAAgAEJAAAwIAEAAAYkAADAgAQAABiQAAAAAxIAAGBAAgAADEgAAIABCQAAMCABAAAGJAAAwIAEAAAYkAAAAAMSAABgQAIAAAxIAACAAQkAADAgAQAABiQAAMCABAAAGJAAAAADEgAAYEACAAAMSAAAgAEJAAAwIAEAAAYkAADAgAQAABiQAAAAAxIAAGBAAgAADEgAAIABCQAAMCABAAAGJAAAwIAEAAAYkAAAAAM6uIqirbVTk5wx385McqckJ65iLADYMtcl+WiSi5NckuSSqrqq9yCtqpYv0tptkzwiyaOTfHOS2y9dFAC4weVJ/izJa5K8oao+uWzB4w4ArbUTknxvku9M8tD4hA8A63BdkjcleWmSl1TVZ4+nyHEFgNbao5M8N8m9j2dQAKCLv0/yzKp6zV6fuKcA0Fp7cJLnJzlnrwMBACvz5iQ/UVVvXfQJC58F0Fr7sSRvicUfADbNOUneMl+rF7LrNwCttVskOS/Jk5brDQBYgxcn+eGquvZYDzpmAGitfVGSVyb52r69AQAr9H+TfGtV/evNPeBmA0Br7dZJ/irJfVbTGwCwQn+X5Guq6sqb+subPAagtXYgycti8QeA/eo+SV42X9O/wM0dBPjcJOeurCUAYB3OzWxN/wJfsAugtfbdSX5vDU0BAOvxxKr6/SP/4KgA0Fo7Pcn7k5y+5sYAgNX5RJIvq6pP3PAHN94F8LOx+APAtjk9szX+cz73DUBr7a5J/jHJSevvCwBYsWuS3KuqPpwc/Q3AL8XiDwDb6qTM1vok828AWmtnJrkoSZusLQBg1SrJXarq4oPzP3hUVrP4fzazCxH8TZKrV1AfALbNLZM8ILPz+E/oXLtltuafd0MAeEznAd6a5JlJ/rqqPt25NgBsvdbaKUn+bWbn8T+4Y+nHJDmvJTk1yWXps///miS/kOT5VfXZDvUAYGittROS/GSSZ6ffWn2HluRxSf6oQ8EkeWRVva5TLQBgrrV2bpLXdir3bQeSnN2p2P+w+APAaszX2Jd0Knf2gSRndCj00STP6FAHALh5T89szV3WGb0CwGur6ooOdQCAmzFfa3vsBjjjQJIzOxR6W4caAMDueqy5Z/b6BkAAAID16LHmntEyuyrQsk63CwAAVq+1dlpmd/dbyo3vBggADEAAAIABCQAAMCABAAAGJAAAwIAEAAAYkAAAAAM6OHUDALBqrbU7JTk0dR9J/l9V/enUTSQCAABjuH+Sl03dRJIPJ9mIAGAXAAAMSAAAgAEJAAAwIAEAAAYkAADAgAQAABiQAAAAAxIAAGBAAgAADEgAAIABCQAAMCABAAAGJAAAwIAEAAAYkAAAAAM6OHUDALAGH0ty/tRNJPmXqRu4QUtSHeqcXlVXdKgDABxDa+20JJ9Yto5dAAAwIAEAAAYkAADAgAQAABiQAAAAAxIAAGBAAgAADMiFgADgRlprX5HkHknufMR2pyRXJ/lokkuP2N5RVUufl79uAgAAw2utHUjykCSPSfLYzBb/RV3fWntTkj9J8uqquqh/h/25EiAAw5pfVe+nkjw5yRd1Kvu2JM+pqj/pVO8orgQIAMeptXZya+0nkrw/yTPTb/FPkgcleWVr7S2ttYd2rNuVAADAUFprT0jy3iS/kuR2Kxzqa5L8RWvtda21u69wnOMiAAAwhNbaCa21X0vy8iR3WePQ35Lkba21r1/jmLsSAADYevP95q9P8oyJWrhdkj9rrT11ovG/gAAAwFZrrd0jyV8n+eaJWzmY5L+21l7QWmsT9yIAALC9WmunJ3lDkntO3csRfiTJL07dhAAAwFZqrZ2Q5A+zt3P61+Vn5gcjTkYAAGBb/VqSh03dxDG8uLV21lSDCwAAbJ3W2ncnedrUfezilklePT9Ace0EAAC2SmvtlCTPm7qPBX1Jkp+eYmABAIBt84zMbt6zXzyttfYl6x5UAABga7TW7pDkP0/dxx6dnOS/rHtQAQCAbfKzSW4zdRPH4Xtba/dZ54ACAABbobV2i8zu6rcfnZDkKesc8OA6BwOAFfr69P/0f02Sdye5IMk7k5ye5Oz5dtfOYz0ma7xUsQAAwLZ4TOd6r0jy1Kq6/Kb+srX2DUlelH5B4N+01r6qqv62U71jsgsAgH1vfm39XgHgk0m+s6q+/eYW/ySpqj9Pcr8kL+40bpI8tmOtYxIAANgGZyc5o1OtH6iqly3ywKq6sqqenNn9Bnp4dKc6uxIAANgGX9Gpzkur6o+O43k/kOSKDuP3+jl2JQAAsA16fPq/Msl/PJ4nVtUlmZ2CuKxbtdbWchqjAADANjizQ40LquoTSzz/f3XoIenzs+xKAABgG/T4BuAdSz7/n9JnN0CvYxmOad+cBthau2OSW03dRyeV5NKqunaVg7TWzkhyi1WOsUafTXJxVR1e1QDze4efme0Jxp+pqo+ucoDW2slJvjhJW+U4a3TlsY767mH+9e7tVjnGml1WVVdN3UQ2IABUVbXWLkjyjUv2MXYAmN/N6WlJHpK+R3duimtbazdcXOKlVbWzbMHW2p2S/GiSByU5K7MLVmyTq1pr78zsl/S3q+ofli3YWntAku/PbL6+Oskpy9bcJK21yzJ7jb0tyW/0WNxaa49I8vjM5uy+2eD3kePRWrsoszl7c5IXVNU1S9Y7kNnV6R6W2ZzdI9sTmJLkcGvtvZnN2esWPXp+BXp8oDq1Q41bd6ix0g+HR6oO22lVlV5bZov++zr1th+2w0l+K8kpS8zZdyS5fAN+lnVtVyd5epJ2nPN1MMnPZ/aLNvXPsq7t0iSPWuI1dtvMLnoy9c+xzu3CJGctMWd3S7KzAT/HOrfXJrlzzzVhwbn+gw69v3DJHk5M8pkOfZyzyzindfq36lKkWwBI8tTMvu6d+kU8xfbeJHc4jjn77Q3ofartdUkO7HG+Tkrylg3ofartOcfxGvuSJB/ZgN6n2K5N8l3HMWfnJPnUBvQ/xXZ5kgesOQA8r0PfFyzZw9md5u/uwwWAzM5/vHoDXrxTbi/b45w9bgN6nnr78T3O2XM2oOcpt8NJHrbHOXvDBvQ95fbJJF+6h/k6NckHNqDvKbd3JzlpjQHg6R16vi7J/Zbo4dc7zd3JQwWAzO6ENPKnsiO3b11wzr4oyb9uQL9Tb1cnufeCc/bgJNdvQM9Tbx9JcpsF5+zJG9DvJmzn7+H97LwN6HcTtueuMQB8e6ee35HkxOMY/yHp8+31xxcY67QeP+smHe38DUm+ZuomNsSiF5P4wSR3XGUj+8TJSX58wcf+VGZhc3R3SfI9Cz62x8VNtsE3t9YetNuDWmt3SPJDa+hnP/jx+Zki6/D2TnUekOTn9vKE+UHrL06fM4h6/Ry72qQAsOsv1kDut+Avzdkr72T/WHQuvM4+b9c5a63dPsnd19DLfrHI68fv5ecdzOzsmpWrqg9kdtBmDz/XWvtvi1yRr7X24MzOsrlnp7Ff1anOrgSAzXRiFvul8UbzefdtrZ10rAe01r44s0++zCzy+nngyrvYXwSAvVvnfLy6Y60fSHJha+1xrbWjrtvQZu7ZWntukr9Mcp9OY1aS13SqtatNCgBfOXUDG+aY89FaOzUWsyOdmNn51cfiNXa0ey/wGHN2tEXmY5F5Hck65+NVnet9aZI/SnJ5a+39rbU/bK29Mcknkvxj+u9SvKCq/rljvWPapAt4nDh1Axtmt/nYpH+7TbHbnHmNHW2R15A5O9oi82HOjra2+aiqC1prH8ls4e7t7ln97rA/WXH9o2zSNwAAsKznT93AcfpUkheuc0ABAIBtcl5m12DYb55XVZetc0ABAICtUVXXJXnW1H3s0aWZXURorQQAALbNy7P8rX3X6dlV9el1DyoAALBVana5vB/O7MY8m+4vMrvJ1toJAABsnap6W2a3+t5kH0zybVV1/RSDb9upZFdldi3mqZ2S/XMq0CenbmDuNtkf90g/nOTKqZvIbK52vUrZhrg2s/s1TO1gkltN3cSCrs4a7wl/DCdldqntfamqXtpa+8okPz11LzfhyiSPXveBf0fatgBwTlW9c+omWmsvT/KEqftYRFWdNnUPSdJa+1CSu07dxwIurKr7T91Ea+20zC5Gsh+8uKp+eOomWmsPz+yuhvvBj1XVeVM30Vp7ZmZ3z9zPfjbJfZM8eupGjnA4s1tMv3vKJuwCAGBrzY8H+PYkvzd1L3NXZXbH1z+duhEBAICtVlXXVNX3JPnJzD59T+VDSR5SVT3vWXDcBAAAhlBVz0/yyExz7NObkzy4qnrdsXBpAgAAw6iqNyT5qiS/n9nd91btsiQ/muQbq+pjaxhvYQIAAEOpqo9U1RMzu1XxG1c0zKeT/FKSL6uq35xfoXCjCAAADKmq/qaqvinJwzO77W+PU3zfl+R5Sb68qp5VVZ/qUHMltu00QADYk6o6P8n5rbVbJPn6zE4ZPDeLnZp8XZK3J3l1kldX1T+srNHOBAAASFJV1yY5f779h9baSUnunOTMJGfM//vqJJfMt4uTfGx+quG+IwAAwE2oqmsyO3XvQ9N2shqOAQCAAQkAADAgAQAABiQAAMCABAAAGJAAAAADEgAAYEACAAAMSAAAgAEJAAAwIAEAAAYkAADAgAQAABiQAAAAAxIAAGBAAgAADEgAAIABCQAAMCABAAAGJAAAwIAEAAAYkAAAAAMSAABgQAIAAAzo4NQNdPbm1tpnp24iySlTN7Co1toVU/cwd5upG1jQ/TZkztrUDezBk1pr3zF1E9lf73e/1lp77tRNJDlp6gZYnf30C7GIU6duYB+67dQN7DMHYs726hbzjcXdcr7BytgFAAADEgAAYEACAAAMSAAAgAEJAAAwIAEAAAa0SQHguqkb2DC7zcf1a+lif9ltzrzGjrbIa8icHW2R+TBnRzMfG2qTAsC7p25gwxxzPqrqqiQXramX/eC6JP+0y2O8xo729ws8xpwdbZH5WGReR2I+NtQmBYC3Td3ABrkuybsWeNwFq25kH3lPVV1zrAdU1b9EaDrSIq+ft6+8i/1lkfcpv5dHMx8bSgDYTBdW1WcWeJxfrM9bdC68zj5v1zmrqsuTfGANvewXAsDeXJ/FPswwgU0KAH+e5K+mbmJD/NKCj3thko+tspF94jNJfnXBx/5ykk24X8TULkryuws+dtHX47b7s6raNQBU1WVJfmcN/ewHv7rghxkmsDEBoKo+m+RJmb2Zj+zlVfXKRR5YVf+a5Kkr7mc/eFZVLbSfsaremuRXVtzPpqskT66qTy304KoXJfmfq21p430qyVP28PifSPLBFfWyX7wnyS9M3QQ3b2MCQJJU1T8k+bEkh6fuZSLvS/Kf9vKEqvrjJOetpp194fVJfn2Pz3l2xv626Zer6o17fM5TMu7xE9cl+ZGq+siiT5gfpPu9Sa5cWVeb7eNJnrjbcTlMrzpsp1VVem1JHpLZYtijt/2wHU7yW0lOWWLOviPJ5Rvws6xruzrJ05O045yvg0l+Psm1G/CzrGu7NMmjlniN3TbJizbg51jndmGSs5aYs7sl2dmAn2Od22uT3LnnmmD7gtfVaT3+rdr8P5Z1elVd0aHO57TWTknytMzCwNlJzuhZfwNcm9kpRRckeWlV7SxbsLV2pyQ/muRBSc5KcvqyNTfMVUnemeQdSX67Zt8YLaW19oAk35/ZfH11klOWrblhLsvsNfa2JL9Rs4P6ltJae0SSx2c2Z/fN9t1W/KLM5uzNSV5QS36Kba0dSPLkJA/LbM7ukaQt2+QGOZzkvZnN2euq6mUT97P1WmunJfnE0nWyoQHgxlprd0xyq1WOsUaV5NKqunaVg7TWzsj23If9s0kurqqV7R5qrZ2Q5Mxs2K6xJXymqj66ygFaaycn+eJsz4J2ZY+QdCyttdskud0qx1izy2q2y4M1GS4AAAD9AsC2fNIBAPZAAACAAQkAADAgAQAABiQAAMCABAAAGJAAAAADEgAAYEACAAAMSAAAgAEJAAAwIAEAAAYkAADAgAQAABiQAAAAAxIAAGBAAgAADEgAAIABCQAAMCABAAAGJAAAwIAEAAAYkAAAAAM6kKQ61QEAVq/HmlsHklzeodC9OtQAAHbXY829/ECSSzoUemCHGgDA7nqsuZf0CgAP6lADANhdjzX3kgNJLu5Q6FGttTM71AEAbsZ8rX1Uh1IX9/oG4LQkL+xQBwC4eb+T2Zq7rEsOJHlLh0JJ8i2ttad0qgUAHGG+xp7bqdxbWpKTklyW5NQOBSuzbwJ+sqqu7FAPAIbWWrt1kl9J8oNJWoeSVyW5w4GquibJ+R0KJrPGfijJha21J7XW7tVa69EsAAyjzdyrtfakJBdmtrb2Wk/Pr6prDs7/59VJHtepcJLcNcmL5v/9ydbau5Jc3bE+AGyrWyb56iS3XVH9VydJq6q01m6X5NIkt1jRYADA9K5Ncueq+viBJKmqjyd5wbQ9AQAr9oL5mj/7BiDJDd8CvD99Ti8AADbLFUm+7IYA8LkbCsz/4DkTNQUArNZzblj8kyO+AUiS1trJSd6b5C4TNAYArMZFSe5ZVZ+54Q+OuqXg/C++L8n16+0LAFiR65N835GLf3IT9xSuqj9P8vQ1NQUArNbT52v7UY7aBXDUX7T2O5lddQgA2J9eWFU/dFN/cawAcGKSNyZ56AobAwBW401JHlZV193UX37BLoAbzJ/wiCSvWFFjAMBqvCLJI25u8U+OEQCSpKo+neQJSZ6d2Y1+AIDNVZmt2U+Yr+E362Z3AXzBA1t7XJLfTXLKst0BAN19Osn3VNUfL/LgY34DcKR5wXsneUmSw8fXGwDQ2eHM1uZ7L7r4J3v4BuCoJ7V2v8yuGnjunp8MAPTyuiQ/XVUX7vWJxxUAPvfk1h6S5LuSPCbJmcddCABY1MWZ3dL3D6rqL4+3yFIB4HNFWmtJHpjksUn+fZK7Jbn90oUBgMuTfCjJ+UleleTt1WHx7hIAbrJwaycluXNm3wzcKcmJKxnopv36fMxlvCfJL3boZS9uneSFHeq8Mk7fBPp5fJJv7VDnB5Nc2aHOXjwryX2XrPHRJM/o0MuirpuPeXGSS6vqmlUMsrIAMKXW2h8k+c4ly1yR5PZVtbYDHltrj0jy+g6lHlNVr+lQByCttUdn9pXzsr6lqt7Qoc5CWmsHMvv0fNqSpV5aVd+1fEebZeGzAPaZnQ41Tkty/w519uJQhxqHM7v6E0Avb0qfs78OdaixF/fP8ot/0mdN2TgCwLEd6lRnneO9q6qu6FAHIEkyf095V4dShzrUmGK8nU51NspWBoCqel9m+06WdahDjYW01m6d5KwOpXY61AC4sZ0ONc6av9ety6EONS6erylbZysDwNxOhxoPne9DWoevTXKwQ52dDjUAbmynQ42Dmb3Xrdz8vbvHzex2OtTYSALAsd02yQM61FnEoQ417P8HVmW/HQfwgMzew5e106HGRhIAdneoU511jGP/P7AS+/A4gF7j7HSqs3G2NgBU1T9lnxwH0Fo7NcnZHUrtdKgBcHN2OtQ4e/6et2qHOtS4eL6WbKWtDQBzOx1qnNNaO6FDnWOx/x/YD3Y61Fj5cQDz9+xzOpTa6VBjY217APjfHWqs4ziAQx1qHE7y5g51AG7Om7M/jgPotf+/xxqysbY9AOx0qnOoU51V1n9XVX2iQx2AmzR/j9kPxwH0qr/Tqc5G2uoAUFXvT/LPHUod6lDjJrXWbpXZjZSWtdOhBsBudjrUeOD8vW9VDnWo8c/zNWRrbXUAmNvpUGOVxwHY/w/sJzsdaqzsOAD7/xc3QgDosQ/nNulzlb6bcqhDDfv/gXXZ9OMAzsrsPXtZW73/PxkjAOx0qnOoU51V1P1b+/+BdZi/1/xth1KHOtRYZd2dTnU21tYHgKr6QJKLOpQ61KHGUez/B/apnQ41VnUcwKEONS6arx1brce+5/1gJ8kTl6zxda218zr0cqQ7JDmxQ52dDjUAFrWT5OlL1jgxyUtaa5ct3c3Rvq5DjZ0ONTZeq6qpe1i51tqTk/z3qftYkcNJ7mAXALAurbXTk1yW7f0W+fur6kVTN7Fq2/qPd2PbfDCH/f/AWnU8DmBTbfOa8TlDBICq+mCSj0zdx4rsTN0AMKSdqRtYkY/M14ytN0QAmNuZuoEV2Zm6AWBIO1M3sCI7UzewLgLA/nY4s3t0A6zbm9LnegCbZmfqBtZlpACwjft07P8HJrHFxwFs41pxk4YJAFX1oSQfnrqPznambgAY2s7UDXT24flaMYRhAsDcztQNdLYzdQPA0HambqCznakbWCcBYP+y/x+Y2rYdB7AzdQPrJADsX/b/A5PawuMAdqZuYJ2GCgDzfTtvnbqPTl4+dQMA2Z73oreOtP8/GSwAzP3m1A108OkkL5y6CYDM3os+PXUTHWzD2rAnIwaAVyTZ71d5Os/X/8AmmL8X9b5R2rp9MLO1YShD3Azoxlpr90zyf5LccepejsPrkjy2qq6fuhGAJGmtHUzyqiTnTtzK8fhYkn9XVe+dupF1G/EbgMz/oR+e5OKpe9mj1yd5vMUf2CTz96THZ/YetZ9cnOThIy7+yaABIEmq6h1JvjzJzyT55MTt7OY9SR5ZVedW1dVTNwNwY1V1dVWdm+SRmb1nbbJPZvbe/+XztWBIQ+4CuLHW2i2S3DPJfZLcLZsRjD6T5B8z+0W6qPxDAftEa60luUuS+ya5V5KTp+0oyex6BR9K8ndJ3ltV107bzvQEAAAY0CZ80gUA1kwAAIABCQAAMCABAAAGJAAAwIAEAAAYkAAAAAMSAABgQAIAAAxIAACAAQkAADAgAQAABiQAAMCABAAAGJAAAAADEgAAYEACAAAMSAAAgAEJAAAwIAEAAAYkAADAgAQAABiQAAAAAxIAAGBAAgAADEgAAIABCQAAMCABAAAGJAAAwIAEAAAYkAAAAAMSAABgQAIAAAxIAACAAQkAADAgAQAABiQAAMCABAAAGJAAAAADEgAAYEACAAAMSAAAgAEJAAAwIAEAAAYkAADAgAQAABiQAAAAAxIAAGBAAgAADEgAAIABCQAAMCABAAAGJAAAwIAEAAAYkAAAAAMSAABgQAIAAAxIAACAAQkAADAgAQAABiQAAMCABAAAGJAAAAADEgAAYEACAAAMSAAAgAEJAAAwIAEAAAYkAADAgAQAABiQAAAAAxIAAGBAAgAADEgAAIABCQAAMCABAAAGJAAAwIAEAAAYkAAAAAMSAABgQAIAAAxIAACAAQkAADAgAQAABiQAAMCABAAAGJAAAAADEgAAYEACAAAMSAAAgAEJAAAwIAEAAAYkAADAgAQAABiQAAAAAxIAAGBAAgAADEgAAIABCQAAMCABAAAGJAAAwIAEAAAYkAAAAAMSAABgQAIAAAxIAACAAQkAADAgAQAABiQAAMCABAAAGJAAAAADEgAAYEACAAAMSAAAgAEJAAAwIAEAAAYkAADAgAQAABiQAAAAAxIAAGBAAgAADEgAAIABCQAAMCABAAAGJAAAwIAEAAAYkAAAAAMSAABgQAIAAAxIAACAAQkAADAgAQAABiQAAMCABAAAGJAAAAAD+v9qtxnoD3OflQAAAABJRU5ErkJggg==",
          "x": -0.7071067811865477,
          "xanchor": "center",
          "xref": "x",
          "y": -0.7071067811865475,
          "yanchor": "middle",
          "yref": "y"
         }
        ],
        "showlegend": false,
        "template": {
         "data": {
          "bar": [
           {
            "error_x": {
             "color": "#2a3f5f"
            },
            "error_y": {
             "color": "#2a3f5f"
            },
            "marker": {
             "line": {
              "color": "#E5ECF6",
              "width": 0.5
             },
             "pattern": {
              "fillmode": "overlay",
              "size": 10,
              "solidity": 0.2
             }
            },
            "type": "bar"
           }
          ],
          "barpolar": [
           {
            "marker": {
             "line": {
              "color": "#E5ECF6",
              "width": 0.5
             },
             "pattern": {
              "fillmode": "overlay",
              "size": 10,
              "solidity": 0.2
             }
            },
            "type": "barpolar"
           }
          ],
          "carpet": [
           {
            "aaxis": {
             "endlinecolor": "#2a3f5f",
             "gridcolor": "white",
             "linecolor": "white",
             "minorgridcolor": "white",
             "startlinecolor": "#2a3f5f"
            },
            "baxis": {
             "endlinecolor": "#2a3f5f",
             "gridcolor": "white",
             "linecolor": "white",
             "minorgridcolor": "white",
             "startlinecolor": "#2a3f5f"
            },
            "type": "carpet"
           }
          ],
          "choropleth": [
           {
            "colorbar": {
             "outlinewidth": 0,
             "ticks": ""
            },
            "type": "choropleth"
           }
          ],
          "contour": [
           {
            "colorbar": {
             "outlinewidth": 0,
             "ticks": ""
            },
            "colorscale": [
             [
              0,
              "#0d0887"
             ],
             [
              0.1111111111111111,
              "#46039f"
             ],
             [
              0.2222222222222222,
              "#7201a8"
             ],
             [
              0.3333333333333333,
              "#9c179e"
             ],
             [
              0.4444444444444444,
              "#bd3786"
             ],
             [
              0.5555555555555556,
              "#d8576b"
             ],
             [
              0.6666666666666666,
              "#ed7953"
             ],
             [
              0.7777777777777778,
              "#fb9f3a"
             ],
             [
              0.8888888888888888,
              "#fdca26"
             ],
             [
              1,
              "#f0f921"
             ]
            ],
            "type": "contour"
           }
          ],
          "contourcarpet": [
           {
            "colorbar": {
             "outlinewidth": 0,
             "ticks": ""
            },
            "type": "contourcarpet"
           }
          ],
          "heatmap": [
           {
            "colorbar": {
             "outlinewidth": 0,
             "ticks": ""
            },
            "colorscale": [
             [
              0,
              "#0d0887"
             ],
             [
              0.1111111111111111,
              "#46039f"
             ],
             [
              0.2222222222222222,
              "#7201a8"
             ],
             [
              0.3333333333333333,
              "#9c179e"
             ],
             [
              0.4444444444444444,
              "#bd3786"
             ],
             [
              0.5555555555555556,
              "#d8576b"
             ],
             [
              0.6666666666666666,
              "#ed7953"
             ],
             [
              0.7777777777777778,
              "#fb9f3a"
             ],
             [
              0.8888888888888888,
              "#fdca26"
             ],
             [
              1,
              "#f0f921"
             ]
            ],
            "type": "heatmap"
           }
          ],
          "heatmapgl": [
           {
            "colorbar": {
             "outlinewidth": 0,
             "ticks": ""
            },
            "colorscale": [
             [
              0,
              "#0d0887"
             ],
             [
              0.1111111111111111,
              "#46039f"
             ],
             [
              0.2222222222222222,
              "#7201a8"
             ],
             [
              0.3333333333333333,
              "#9c179e"
             ],
             [
              0.4444444444444444,
              "#bd3786"
             ],
             [
              0.5555555555555556,
              "#d8576b"
             ],
             [
              0.6666666666666666,
              "#ed7953"
             ],
             [
              0.7777777777777778,
              "#fb9f3a"
             ],
             [
              0.8888888888888888,
              "#fdca26"
             ],
             [
              1,
              "#f0f921"
             ]
            ],
            "type": "heatmapgl"
           }
          ],
          "histogram": [
           {
            "marker": {
             "pattern": {
              "fillmode": "overlay",
              "size": 10,
              "solidity": 0.2
             }
            },
            "type": "histogram"
           }
          ],
          "histogram2d": [
           {
            "colorbar": {
             "outlinewidth": 0,
             "ticks": ""
            },
            "colorscale": [
             [
              0,
              "#0d0887"
             ],
             [
              0.1111111111111111,
              "#46039f"
             ],
             [
              0.2222222222222222,
              "#7201a8"
             ],
             [
              0.3333333333333333,
              "#9c179e"
             ],
             [
              0.4444444444444444,
              "#bd3786"
             ],
             [
              0.5555555555555556,
              "#d8576b"
             ],
             [
              0.6666666666666666,
              "#ed7953"
             ],
             [
              0.7777777777777778,
              "#fb9f3a"
             ],
             [
              0.8888888888888888,
              "#fdca26"
             ],
             [
              1,
              "#f0f921"
             ]
            ],
            "type": "histogram2d"
           }
          ],
          "histogram2dcontour": [
           {
            "colorbar": {
             "outlinewidth": 0,
             "ticks": ""
            },
            "colorscale": [
             [
              0,
              "#0d0887"
             ],
             [
              0.1111111111111111,
              "#46039f"
             ],
             [
              0.2222222222222222,
              "#7201a8"
             ],
             [
              0.3333333333333333,
              "#9c179e"
             ],
             [
              0.4444444444444444,
              "#bd3786"
             ],
             [
              0.5555555555555556,
              "#d8576b"
             ],
             [
              0.6666666666666666,
              "#ed7953"
             ],
             [
              0.7777777777777778,
              "#fb9f3a"
             ],
             [
              0.8888888888888888,
              "#fdca26"
             ],
             [
              1,
              "#f0f921"
             ]
            ],
            "type": "histogram2dcontour"
           }
          ],
          "mesh3d": [
           {
            "colorbar": {
             "outlinewidth": 0,
             "ticks": ""
            },
            "type": "mesh3d"
           }
          ],
          "parcoords": [
           {
            "line": {
             "colorbar": {
              "outlinewidth": 0,
              "ticks": ""
             }
            },
            "type": "parcoords"
           }
          ],
          "pie": [
           {
            "automargin": true,
            "type": "pie"
           }
          ],
          "scatter": [
           {
            "fillpattern": {
             "fillmode": "overlay",
             "size": 10,
             "solidity": 0.2
            },
            "type": "scatter"
           }
          ],
          "scatter3d": [
           {
            "line": {
             "colorbar": {
              "outlinewidth": 0,
              "ticks": ""
             }
            },
            "marker": {
             "colorbar": {
              "outlinewidth": 0,
              "ticks": ""
             }
            },
            "type": "scatter3d"
           }
          ],
          "scattercarpet": [
           {
            "marker": {
             "colorbar": {
              "outlinewidth": 0,
              "ticks": ""
             }
            },
            "type": "scattercarpet"
           }
          ],
          "scattergeo": [
           {
            "marker": {
             "colorbar": {
              "outlinewidth": 0,
              "ticks": ""
             }
            },
            "type": "scattergeo"
           }
          ],
          "scattergl": [
           {
            "marker": {
             "colorbar": {
              "outlinewidth": 0,
              "ticks": ""
             }
            },
            "type": "scattergl"
           }
          ],
          "scattermapbox": [
           {
            "marker": {
             "colorbar": {
              "outlinewidth": 0,
              "ticks": ""
             }
            },
            "type": "scattermapbox"
           }
          ],
          "scatterpolar": [
           {
            "marker": {
             "colorbar": {
              "outlinewidth": 0,
              "ticks": ""
             }
            },
            "type": "scatterpolar"
           }
          ],
          "scatterpolargl": [
           {
            "marker": {
             "colorbar": {
              "outlinewidth": 0,
              "ticks": ""
             }
            },
            "type": "scatterpolargl"
           }
          ],
          "scatterternary": [
           {
            "marker": {
             "colorbar": {
              "outlinewidth": 0,
              "ticks": ""
             }
            },
            "type": "scatterternary"
           }
          ],
          "surface": [
           {
            "colorbar": {
             "outlinewidth": 0,
             "ticks": ""
            },
            "colorscale": [
             [
              0,
              "#0d0887"
             ],
             [
              0.1111111111111111,
              "#46039f"
             ],
             [
              0.2222222222222222,
              "#7201a8"
             ],
             [
              0.3333333333333333,
              "#9c179e"
             ],
             [
              0.4444444444444444,
              "#bd3786"
             ],
             [
              0.5555555555555556,
              "#d8576b"
             ],
             [
              0.6666666666666666,
              "#ed7953"
             ],
             [
              0.7777777777777778,
              "#fb9f3a"
             ],
             [
              0.8888888888888888,
              "#fdca26"
             ],
             [
              1,
              "#f0f921"
             ]
            ],
            "type": "surface"
           }
          ],
          "table": [
           {
            "cells": {
             "fill": {
              "color": "#EBF0F8"
             },
             "line": {
              "color": "white"
             }
            },
            "header": {
             "fill": {
              "color": "#C8D4E3"
             },
             "line": {
              "color": "white"
             }
            },
            "type": "table"
           }
          ]
         },
         "layout": {
          "annotationdefaults": {
           "arrowcolor": "#2a3f5f",
           "arrowhead": 0,
           "arrowwidth": 1
          },
          "autotypenumbers": "strict",
          "coloraxis": {
           "colorbar": {
            "outlinewidth": 0,
            "ticks": ""
           }
          },
          "colorscale": {
           "diverging": [
            [
             0,
             "#8e0152"
            ],
            [
             0.1,
             "#c51b7d"
            ],
            [
             0.2,
             "#de77ae"
            ],
            [
             0.3,
             "#f1b6da"
            ],
            [
             0.4,
             "#fde0ef"
            ],
            [
             0.5,
             "#f7f7f7"
            ],
            [
             0.6,
             "#e6f5d0"
            ],
            [
             0.7,
             "#b8e186"
            ],
            [
             0.8,
             "#7fbc41"
            ],
            [
             0.9,
             "#4d9221"
            ],
            [
             1,
             "#276419"
            ]
           ],
           "sequential": [
            [
             0,
             "#0d0887"
            ],
            [
             0.1111111111111111,
             "#46039f"
            ],
            [
             0.2222222222222222,
             "#7201a8"
            ],
            [
             0.3333333333333333,
             "#9c179e"
            ],
            [
             0.4444444444444444,
             "#bd3786"
            ],
            [
             0.5555555555555556,
             "#d8576b"
            ],
            [
             0.6666666666666666,
             "#ed7953"
            ],
            [
             0.7777777777777778,
             "#fb9f3a"
            ],
            [
             0.8888888888888888,
             "#fdca26"
            ],
            [
             1,
             "#f0f921"
            ]
           ],
           "sequentialminus": [
            [
             0,
             "#0d0887"
            ],
            [
             0.1111111111111111,
             "#46039f"
            ],
            [
             0.2222222222222222,
             "#7201a8"
            ],
            [
             0.3333333333333333,
             "#9c179e"
            ],
            [
             0.4444444444444444,
             "#bd3786"
            ],
            [
             0.5555555555555556,
             "#d8576b"
            ],
            [
             0.6666666666666666,
             "#ed7953"
            ],
            [
             0.7777777777777778,
             "#fb9f3a"
            ],
            [
             0.8888888888888888,
             "#fdca26"
            ],
            [
             1,
             "#f0f921"
            ]
           ]
          },
          "colorway": [
           "#636efa",
           "#EF553B",
           "#00cc96",
           "#ab63fa",
           "#FFA15A",
           "#19d3f3",
           "#FF6692",
           "#B6E880",
           "#FF97FF",
           "#FECB52"
          ],
          "font": {
           "color": "#2a3f5f"
          },
          "geo": {
           "bgcolor": "white",
           "lakecolor": "white",
           "landcolor": "#E5ECF6",
           "showlakes": true,
           "showland": true,
           "subunitcolor": "white"
          },
          "hoverlabel": {
           "align": "left"
          },
          "hovermode": "closest",
          "mapbox": {
           "style": "light"
          },
          "paper_bgcolor": "white",
          "plot_bgcolor": "#E5ECF6",
          "polar": {
           "angularaxis": {
            "gridcolor": "white",
            "linecolor": "white",
            "ticks": ""
           },
           "bgcolor": "#E5ECF6",
           "radialaxis": {
            "gridcolor": "white",
            "linecolor": "white",
            "ticks": ""
           }
          },
          "scene": {
           "xaxis": {
            "backgroundcolor": "#E5ECF6",
            "gridcolor": "white",
            "gridwidth": 2,
            "linecolor": "white",
            "showbackground": true,
            "ticks": "",
            "zerolinecolor": "white"
           },
           "yaxis": {
            "backgroundcolor": "#E5ECF6",
            "gridcolor": "white",
            "gridwidth": 2,
            "linecolor": "white",
            "showbackground": true,
            "ticks": "",
            "zerolinecolor": "white"
           },
           "zaxis": {
            "backgroundcolor": "#E5ECF6",
            "gridcolor": "white",
            "gridwidth": 2,
            "linecolor": "white",
            "showbackground": true,
            "ticks": "",
            "zerolinecolor": "white"
           }
          },
          "shapedefaults": {
           "line": {
            "color": "#2a3f5f"
           }
          },
          "ternary": {
           "aaxis": {
            "gridcolor": "white",
            "linecolor": "white",
            "ticks": ""
           },
           "baxis": {
            "gridcolor": "white",
            "linecolor": "white",
            "ticks": ""
           },
           "bgcolor": "#E5ECF6",
           "caxis": {
            "gridcolor": "white",
            "linecolor": "white",
            "ticks": ""
           }
          },
          "title": {
           "x": 0.05
          },
          "xaxis": {
           "automargin": true,
           "gridcolor": "white",
           "linecolor": "white",
           "ticks": "",
           "title": {
            "standoff": 15
           },
           "zerolinecolor": "white",
           "zerolinewidth": 2
          },
          "yaxis": {
           "automargin": true,
           "gridcolor": "white",
           "linecolor": "white",
           "ticks": "",
           "title": {
            "standoff": 15
           },
           "zerolinecolor": "white",
           "zerolinewidth": 2
          }
         }
        },
        "title": {
         "text": "Root Cause Overview"
        },
        "updatemenus": [
         {
          "buttons": [
           {
            "args": [
             {
              "visible": [
               true,
               true,
               true,
               true,
               true,
               true,
               true,
               true,
               true
              ]
             },
             {
              "title": "All data"
             }
            ],
            "label": "all instances",
            "method": "update"
           },
           {
            "args": [
             {
              "visible": [
               true,
               false,
               true,
               false,
               true,
               false,
               true,
               true,
               true
              ]
             },
             {
              "title": "Switches only"
             }
            ],
            "label": "switches",
            "method": "update"
           },
           {
            "args": [
             {
              "visible": [
               false,
               false,
               true,
               true,
               true,
               true,
               false,
               true,
               true
              ]
             },
             {
              "title": "Unhealth devices only"
             }
            ],
            "label": "only unhealthy",
            "method": "update"
           },
           {
            "args": [
             {
              "visible": [
               true,
               true,
               false,
               false,
               true,
               true,
               true,
               false,
               true
              ]
             },
             {
              "title": "Health devices only"
             }
            ],
            "label": "only healthy",
            "method": "update"
           },
           {
            "args": [
             {
              "visible": [
               false,
               true,
               false,
               true,
               false,
               true,
               true,
               true,
               true
              ]
             },
             {
              "title": "UPS only"
             }
            ],
            "label": "UPS",
            "method": "update"
           }
          ]
         }
        ],
        "width": 1000,
        "xaxis": {
         "range": [
          -1.3,
          1.3
         ],
         "showgrid": false
        },
        "yaxis": {
         "range": [
          -1.2,
          1.2
         ],
         "showgrid": false
        }
       }
      },
      "text/html": [
       "<div>                            <div id=\"8765b07b-cf41-4686-80e3-302bf83638e4\" class=\"plotly-graph-div\" style=\"height:1100px; width:1000px;\"></div>            <script type=\"text/javascript\">                require([\"plotly\"], function(Plotly) {                    window.PLOTLYENV=window.PLOTLYENV || {};                                    if (document.getElementById(\"8765b07b-cf41-4686-80e3-302bf83638e4\")) {                    Plotly.newPlot(                        \"8765b07b-cf41-4686-80e3-302bf83638e4\",                        [{\"hoverinfo\":\"none\",\"line\":{\"color\":\"cadetblue\",\"width\":0.75},\"mode\":\"lines\",\"opacity\":1,\"x\":[1.0,-0.19253106360283606,null,1.0,-0.08870953800793763,null,1.0,-0.31587992731758463,null,1.0,0.2756968426448936,null,1.0,-0.22652389570367945,null,0.7071067811865476,0.2756968426448936,null,0.7071067811865476,0.31787879408257175,null,0.7071067811865476,-0.2031558487284403,null,0.7071067811865476,0.17526278529930572,null,-0.7071067811865475,-0.22652389570367945,null,-0.7071067811865475,0.03664586316682148,null,-0.7071067811865475,0.30469293616740584,null,-0.7071067811865475,0.2756968426448936,null,-1.0,0.17526278529930572,null,-1.0,0.0764524974681519,null,-0.7071067811865477,0.3278021703599268,null,-0.7071067811865477,0.0764524974681519,null,-0.7071067811865477,-0.31587992731758463,null,-0.7071067811865477,0.2756968426448936,null],\"y\":[0.0,-0.2708300734892861,null,0.0,-0.32986939707243335,null,0.0,0.04623016156131226,null,0.0,0.16098603419824362,null,0.0,-0.21647073004262138,null,0.7071067811865476,0.16098603419824362,null,0.7071067811865476,-0.11858925008554082,null,0.7071067811865476,0.2829622873583427,null,0.7071067811865476,-0.26764723787226224,null,0.7071067811865476,-0.21647073004262138,null,0.7071067811865476,0.33783171134851436,null,0.7071067811865476,0.0753064580116259,null,0.7071067811865476,0.16098603419824362,null,1.2246467991473532e-16,-0.26764723787226224,null,1.2246467991473532e-16,0.26518020342212484,null,-0.7071067811865475,0.1263763241801044,null,-0.7071067811865475,0.26518020342212484,null,-0.7071067811865475,0.04623016156131226,null,-0.7071067811865475,0.16098603419824362,null],\"type\":\"scatter\"},{\"hoverinfo\":\"none\",\"line\":{\"color\":\"steelblue\",\"width\":0.75},\"mode\":\"lines\",\"opacity\":1,\"x\":[-1.8369701987210297e-16,-0.22652389570367945,null,-1.8369701987210297e-16,0.17526278529930572,null,-1.8369701987210297e-16,-0.19253106360283606,null,-1.8369701987210297e-16,0.31787879408257175,null,-1.8369701987210297e-16,0.01665924406188511,null,-1.8369701987210297e-16,0.03664586316682148,null],\"y\":[-1.0,-0.21647073004262138,null,-1.0,-0.26764723787226224,null,-1.0,-0.2708300734892861,null,-1.0,-0.11858925008554082,null,-1.0,-0.3494304911195122,null,-1.0,0.33783171134851436,null],\"type\":\"scatter\"},{\"hoverinfo\":\"none\",\"line\":{\"color\":\"red\",\"width\":0.75},\"mode\":\"lines\",\"opacity\":1,\"x\":[-0.08963796286696701,1.0,null,-0.08963796286696701,6.123233995736766e-17,null,-0.08963796286696701,-0.7071067811865477,null,0.26649530922319836,6.123233995736766e-17,null,0.26649530922319836,1.0,null,0.26649530922319836,-0.7071067811865477,null,-0.3247417617176068,-1.0,null,-0.3247417617176068,1.0,null,-0.3011568913822895,-1.0,null,-0.3011568913822895,6.123233995736766e-17,null,-0.3011568913822895,1.0,null],\"y\":[0.3323791325270762,0.0,null,0.3323791325270762,1.0,null,0.3323791325270762,-0.7071067811865475,null,-0.21886680382475868,1.0,null,-0.21886680382475868,0.0,null,-0.21886680382475868,-0.7071067811865475,null,-0.009447263025425826,1.2246467991473532e-16,null,-0.009447263025425826,0.0,null,0.16961893365779585,1.2246467991473532e-16,null,0.16961893365779585,1.0,null,0.16961893365779585,0.0,null],\"type\":\"scatter\"},{\"hoverinfo\":\"none\",\"line\":{\"color\":\"red\",\"width\":0.75},\"mode\":\"lines\",\"opacity\":1,\"x\":[-0.08963796286696701,0.7071067811865474,null,0.26649530922319836,0.7071067811865474,null,-0.3247417617176068,0.7071067811865474,null,-0.3011568913822895,0.7071067811865474,null],\"y\":[0.3323791325270762,-0.7071067811865477,null,-0.21886680382475868,-0.7071067811865477,null,-0.009447263025425826,-0.7071067811865477,null,0.16961893365779585,-0.7071067811865477,null],\"type\":\"scatter\"},{\"hoverinfo\":\"text\",\"hovertext\":[\"Name: A<br>Type: switch<br>Unhealthy: 4 out of 9\",\"Name: B<br>Type: switch<br>Unhealthy: 0 out of 4\",\"Name: C<br>Type: switch<br>Unhealthy: 3 out of 3\",\"Name: D<br>Type: switch<br>Unhealthy: 0 out of 4\",\"Name: E<br>Type: switch<br>Unhealthy: 2 out of 4\",\"Name: F<br>Type: switch<br>Unhealthy: 2 out of 6\"],\"marker\":{\"color\":\"cadetblue\",\"line\":{\"color\":[\"rgba(254, 173, 58, 1)\",\"rgba(256, 256, 229, 1)\",\"rgba(102, 37, 6, 1)\",\"rgba(256, 256, 229, 1)\",\"rgba(254, 152, 40, 1)\",\"rgba(254, 207, 101, 1)\"],\"width\":6},\"opacity\":1,\"size\":[90,40,30,40,40,60],\"symbol\":\"circle\"},\"mode\":\"markers+text\",\"text\":[\"Name: A<br>Type: switch<br>Unhealthy: 4 out of 9\",\"Name: B<br>Type: switch<br>Unhealthy: 0 out of 4\",\"Name: C<br>Type: switch<br>Unhealthy: 3 out of 3\",\"Name: D<br>Type: switch<br>Unhealthy: 0 out of 4\",\"Name: E<br>Type: switch<br>Unhealthy: 2 out of 4\",\"Name: F<br>Type: switch<br>Unhealthy: 2 out of 6\"],\"textposition\":\"top center\",\"x\":[1.0,0.7071067811865476,6.123233995736766e-17,-0.7071067811865475,-1.0,-0.7071067811865477],\"y\":[0.0,0.7071067811865476,1.0,0.7071067811865476,1.2246467991473532e-16,-0.7071067811865475],\"type\":\"scatter\"},{\"hoverinfo\":\"text\",\"hovertext\":[\"Name: G<br>Type: UPS<br>Unhealthy: 0 out of 6\",\"Name: H<br>Type: UPS<br>Unhealthy: 4 out of 4\"],\"marker\":{\"color\":\"steelblue\",\"line\":{\"color\":[\"rgba(256, 256, 229, 1)\",\"rgba(102, 37, 6, 1)\"],\"width\":6},\"opacity\":1,\"size\":[60,40]},\"mode\":\"markers+text\",\"text\":[\"Name: G<br>Type: UPS<br>Unhealthy: 0 out of 6\",\"Name: H<br>Type: UPS<br>Unhealthy: 4 out of 4\"],\"textposition\":\"top center\",\"x\":[-1.8369701987210297e-16,0.7071067811865474],\"y\":[-1.0,-0.7071067811865477],\"type\":\"scatter\"},{\"hoverinfo\":\"text\",\"hovertext\":[\"2\",\"4\",\"5\",\"6\",\"7\",\"9\",\"21\",\"22\",\"24\",\"26\",\"27\",\"25\",\"8\"],\"marker\":{\"color\":\"green\",\"line\":{\"color\":\"green\",\"width\":1},\"opacity\":1,\"size\":8,\"symbol\":\"circle\"},\"mode\":\"markers+text\",\"text\":[\"2\",\"4\",\"5\",\"6\",\"7\",\"9\",\"21\",\"22\",\"24\",\"26\",\"27\",\"25\",\"8\"],\"textposition\":\"top center\",\"x\":[0.2756968426448936,-0.22652389570367945,0.17526278529930572,-0.19253106360283606,0.31787879408257175,0.03664586316682148,-0.08870953800793763,-0.2031558487284403,0.30469293616740584,0.0764524974681519,-0.31587992731758463,0.3278021703599268,0.01665924406188511],\"y\":[0.16098603419824362,-0.21647073004262138,-0.26764723787226224,-0.2708300734892861,-0.11858925008554082,0.33783171134851436,-0.32986939707243335,0.2829622873583427,0.0753064580116259,0.26518020342212484,0.04623016156131226,0.1263763241801044,-0.3494304911195122],\"type\":\"scatter\"},{\"hoverinfo\":\"text\",\"hovertext\":[\"1\",\"3\",\"10\",\"23\"],\"marker\":{\"color\":\"red\",\"line\":{\"color\":\"red\",\"width\":1},\"opacity\":1,\"size\":8,\"symbol\":\"circle\"},\"mode\":\"markers+text\",\"text\":[\"1\",\"3\",\"10\",\"23\"],\"textposition\":\"top center\",\"x\":[-0.08963796286696701,0.26649530922319836,-0.3247417617176068,-0.3011568913822895],\"y\":[0.3323791325270762,-0.21886680382475868,-0.009447263025425826,0.16961893365779585],\"type\":\"scatter\"},{\"hoverinfo\":\"none\",\"marker\":{\"cmax\":5,\"cmin\":-5,\"colorbar\":{\"outlinewidth\":0,\"thickness\":25,\"ticktext\":[\"0%\",\"25%\",\"50%\",\"75%\",\"100% \"],\"tickvals\":[-5,-2.5,0,2.5,5],\"title\":{\"text\":\"UNHEALTHY\"}},\"colorscale\":[[0.0,\"rgb(255,255,229)\"],[0.125,\"rgb(255,247,188)\"],[0.25,\"rgb(254,227,145)\"],[0.375,\"rgb(254,196,79)\"],[0.5,\"rgb(254,153,41)\"],[0.625,\"rgb(236,112,20)\"],[0.75,\"rgb(204,76,2)\"],[0.875,\"rgb(153,52,4)\"],[1.0,\"rgb(102,37,6)\"]],\"showscale\":true},\"mode\":\"markers\",\"x\":[null],\"y\":[null],\"type\":\"scatter\"}],                        {\"height\":1100,\"hoverlabel\":{\"bgcolor\":\"white\",\"font\":{\"family\":\"Rockwell\",\"size\":26}},\"hovermode\":\"closest\",\"showlegend\":false,\"title\":{\"text\":\"Root Cause Overview\"},\"width\":1000,\"xaxis\":{\"range\":[-1.3,1.3],\"showgrid\":false},\"yaxis\":{\"range\":[-1.2,1.2],\"showgrid\":false},\"template\":{\"data\":{\"histogram2dcontour\":[{\"type\":\"histogram2dcontour\",\"colorbar\":{\"outlinewidth\":0,\"ticks\":\"\"},\"colorscale\":[[0.0,\"#0d0887\"],[0.1111111111111111,\"#46039f\"],[0.2222222222222222,\"#7201a8\"],[0.3333333333333333,\"#9c179e\"],[0.4444444444444444,\"#bd3786\"],[0.5555555555555556,\"#d8576b\"],[0.6666666666666666,\"#ed7953\"],[0.7777777777777778,\"#fb9f3a\"],[0.8888888888888888,\"#fdca26\"],[1.0,\"#f0f921\"]]}],\"choropleth\":[{\"type\":\"choropleth\",\"colorbar\":{\"outlinewidth\":0,\"ticks\":\"\"}}],\"histogram2d\":[{\"type\":\"histogram2d\",\"colorbar\":{\"outlinewidth\":0,\"ticks\":\"\"},\"colorscale\":[[0.0,\"#0d0887\"],[0.1111111111111111,\"#46039f\"],[0.2222222222222222,\"#7201a8\"],[0.3333333333333333,\"#9c179e\"],[0.4444444444444444,\"#bd3786\"],[0.5555555555555556,\"#d8576b\"],[0.6666666666666666,\"#ed7953\"],[0.7777777777777778,\"#fb9f3a\"],[0.8888888888888888,\"#fdca26\"],[1.0,\"#f0f921\"]]}],\"heatmap\":[{\"type\":\"heatmap\",\"colorbar\":{\"outlinewidth\":0,\"ticks\":\"\"},\"colorscale\":[[0.0,\"#0d0887\"],[0.1111111111111111,\"#46039f\"],[0.2222222222222222,\"#7201a8\"],[0.3333333333333333,\"#9c179e\"],[0.4444444444444444,\"#bd3786\"],[0.5555555555555556,\"#d8576b\"],[0.6666666666666666,\"#ed7953\"],[0.7777777777777778,\"#fb9f3a\"],[0.8888888888888888,\"#fdca26\"],[1.0,\"#f0f921\"]]}],\"heatmapgl\":[{\"type\":\"heatmapgl\",\"colorbar\":{\"outlinewidth\":0,\"ticks\":\"\"},\"colorscale\":[[0.0,\"#0d0887\"],[0.1111111111111111,\"#46039f\"],[0.2222222222222222,\"#7201a8\"],[0.3333333333333333,\"#9c179e\"],[0.4444444444444444,\"#bd3786\"],[0.5555555555555556,\"#d8576b\"],[0.6666666666666666,\"#ed7953\"],[0.7777777777777778,\"#fb9f3a\"],[0.8888888888888888,\"#fdca26\"],[1.0,\"#f0f921\"]]}],\"contourcarpet\":[{\"type\":\"contourcarpet\",\"colorbar\":{\"outlinewidth\":0,\"ticks\":\"\"}}],\"contour\":[{\"type\":\"contour\",\"colorbar\":{\"outlinewidth\":0,\"ticks\":\"\"},\"colorscale\":[[0.0,\"#0d0887\"],[0.1111111111111111,\"#46039f\"],[0.2222222222222222,\"#7201a8\"],[0.3333333333333333,\"#9c179e\"],[0.4444444444444444,\"#bd3786\"],[0.5555555555555556,\"#d8576b\"],[0.6666666666666666,\"#ed7953\"],[0.7777777777777778,\"#fb9f3a\"],[0.8888888888888888,\"#fdca26\"],[1.0,\"#f0f921\"]]}],\"surface\":[{\"type\":\"surface\",\"colorbar\":{\"outlinewidth\":0,\"ticks\":\"\"},\"colorscale\":[[0.0,\"#0d0887\"],[0.1111111111111111,\"#46039f\"],[0.2222222222222222,\"#7201a8\"],[0.3333333333333333,\"#9c179e\"],[0.4444444444444444,\"#bd3786\"],[0.5555555555555556,\"#d8576b\"],[0.6666666666666666,\"#ed7953\"],[0.7777777777777778,\"#fb9f3a\"],[0.8888888888888888,\"#fdca26\"],[1.0,\"#f0f921\"]]}],\"mesh3d\":[{\"type\":\"mesh3d\",\"colorbar\":{\"outlinewidth\":0,\"ticks\":\"\"}}],\"scatter\":[{\"fillpattern\":{\"fillmode\":\"overlay\",\"size\":10,\"solidity\":0.2},\"type\":\"scatter\"}],\"parcoords\":[{\"type\":\"parcoords\",\"line\":{\"colorbar\":{\"outlinewidth\":0,\"ticks\":\"\"}}}],\"scatterpolargl\":[{\"type\":\"scatterpolargl\",\"marker\":{\"colorbar\":{\"outlinewidth\":0,\"ticks\":\"\"}}}],\"bar\":[{\"error_x\":{\"color\":\"#2a3f5f\"},\"error_y\":{\"color\":\"#2a3f5f\"},\"marker\":{\"line\":{\"color\":\"#E5ECF6\",\"width\":0.5},\"pattern\":{\"fillmode\":\"overlay\",\"size\":10,\"solidity\":0.2}},\"type\":\"bar\"}],\"scattergeo\":[{\"type\":\"scattergeo\",\"marker\":{\"colorbar\":{\"outlinewidth\":0,\"ticks\":\"\"}}}],\"scatterpolar\":[{\"type\":\"scatterpolar\",\"marker\":{\"colorbar\":{\"outlinewidth\":0,\"ticks\":\"\"}}}],\"histogram\":[{\"marker\":{\"pattern\":{\"fillmode\":\"overlay\",\"size\":10,\"solidity\":0.2}},\"type\":\"histogram\"}],\"scattergl\":[{\"type\":\"scattergl\",\"marker\":{\"colorbar\":{\"outlinewidth\":0,\"ticks\":\"\"}}}],\"scatter3d\":[{\"type\":\"scatter3d\",\"line\":{\"colorbar\":{\"outlinewidth\":0,\"ticks\":\"\"}},\"marker\":{\"colorbar\":{\"outlinewidth\":0,\"ticks\":\"\"}}}],\"scattermapbox\":[{\"type\":\"scattermapbox\",\"marker\":{\"colorbar\":{\"outlinewidth\":0,\"ticks\":\"\"}}}],\"scatterternary\":[{\"type\":\"scatterternary\",\"marker\":{\"colorbar\":{\"outlinewidth\":0,\"ticks\":\"\"}}}],\"scattercarpet\":[{\"type\":\"scattercarpet\",\"marker\":{\"colorbar\":{\"outlinewidth\":0,\"ticks\":\"\"}}}],\"carpet\":[{\"aaxis\":{\"endlinecolor\":\"#2a3f5f\",\"gridcolor\":\"white\",\"linecolor\":\"white\",\"minorgridcolor\":\"white\",\"startlinecolor\":\"#2a3f5f\"},\"baxis\":{\"endlinecolor\":\"#2a3f5f\",\"gridcolor\":\"white\",\"linecolor\":\"white\",\"minorgridcolor\":\"white\",\"startlinecolor\":\"#2a3f5f\"},\"type\":\"carpet\"}],\"table\":[{\"cells\":{\"fill\":{\"color\":\"#EBF0F8\"},\"line\":{\"color\":\"white\"}},\"header\":{\"fill\":{\"color\":\"#C8D4E3\"},\"line\":{\"color\":\"white\"}},\"type\":\"table\"}],\"barpolar\":[{\"marker\":{\"line\":{\"color\":\"#E5ECF6\",\"width\":0.5},\"pattern\":{\"fillmode\":\"overlay\",\"size\":10,\"solidity\":0.2}},\"type\":\"barpolar\"}],\"pie\":[{\"automargin\":true,\"type\":\"pie\"}]},\"layout\":{\"autotypenumbers\":\"strict\",\"colorway\":[\"#636efa\",\"#EF553B\",\"#00cc96\",\"#ab63fa\",\"#FFA15A\",\"#19d3f3\",\"#FF6692\",\"#B6E880\",\"#FF97FF\",\"#FECB52\"],\"font\":{\"color\":\"#2a3f5f\"},\"hovermode\":\"closest\",\"hoverlabel\":{\"align\":\"left\"},\"paper_bgcolor\":\"white\",\"plot_bgcolor\":\"#E5ECF6\",\"polar\":{\"bgcolor\":\"#E5ECF6\",\"angularaxis\":{\"gridcolor\":\"white\",\"linecolor\":\"white\",\"ticks\":\"\"},\"radialaxis\":{\"gridcolor\":\"white\",\"linecolor\":\"white\",\"ticks\":\"\"}},\"ternary\":{\"bgcolor\":\"#E5ECF6\",\"aaxis\":{\"gridcolor\":\"white\",\"linecolor\":\"white\",\"ticks\":\"\"},\"baxis\":{\"gridcolor\":\"white\",\"linecolor\":\"white\",\"ticks\":\"\"},\"caxis\":{\"gridcolor\":\"white\",\"linecolor\":\"white\",\"ticks\":\"\"}},\"coloraxis\":{\"colorbar\":{\"outlinewidth\":0,\"ticks\":\"\"}},\"colorscale\":{\"sequential\":[[0.0,\"#0d0887\"],[0.1111111111111111,\"#46039f\"],[0.2222222222222222,\"#7201a8\"],[0.3333333333333333,\"#9c179e\"],[0.4444444444444444,\"#bd3786\"],[0.5555555555555556,\"#d8576b\"],[0.6666666666666666,\"#ed7953\"],[0.7777777777777778,\"#fb9f3a\"],[0.8888888888888888,\"#fdca26\"],[1.0,\"#f0f921\"]],\"sequentialminus\":[[0.0,\"#0d0887\"],[0.1111111111111111,\"#46039f\"],[0.2222222222222222,\"#7201a8\"],[0.3333333333333333,\"#9c179e\"],[0.4444444444444444,\"#bd3786\"],[0.5555555555555556,\"#d8576b\"],[0.6666666666666666,\"#ed7953\"],[0.7777777777777778,\"#fb9f3a\"],[0.8888888888888888,\"#fdca26\"],[1.0,\"#f0f921\"]],\"diverging\":[[0,\"#8e0152\"],[0.1,\"#c51b7d\"],[0.2,\"#de77ae\"],[0.3,\"#f1b6da\"],[0.4,\"#fde0ef\"],[0.5,\"#f7f7f7\"],[0.6,\"#e6f5d0\"],[0.7,\"#b8e186\"],[0.8,\"#7fbc41\"],[0.9,\"#4d9221\"],[1,\"#276419\"]]},\"xaxis\":{\"gridcolor\":\"white\",\"linecolor\":\"white\",\"ticks\":\"\",\"title\":{\"standoff\":15},\"zerolinecolor\":\"white\",\"automargin\":true,\"zerolinewidth\":2},\"yaxis\":{\"gridcolor\":\"white\",\"linecolor\":\"white\",\"ticks\":\"\",\"title\":{\"standoff\":15},\"zerolinecolor\":\"white\",\"automargin\":true,\"zerolinewidth\":2},\"scene\":{\"xaxis\":{\"backgroundcolor\":\"#E5ECF6\",\"gridcolor\":\"white\",\"linecolor\":\"white\",\"showbackground\":true,\"ticks\":\"\",\"zerolinecolor\":\"white\",\"gridwidth\":2},\"yaxis\":{\"backgroundcolor\":\"#E5ECF6\",\"gridcolor\":\"white\",\"linecolor\":\"white\",\"showbackground\":true,\"ticks\":\"\",\"zerolinecolor\":\"white\",\"gridwidth\":2},\"zaxis\":{\"backgroundcolor\":\"#E5ECF6\",\"gridcolor\":\"white\",\"linecolor\":\"white\",\"showbackground\":true,\"ticks\":\"\",\"zerolinecolor\":\"white\",\"gridwidth\":2}},\"shapedefaults\":{\"line\":{\"color\":\"#2a3f5f\"}},\"annotationdefaults\":{\"arrowcolor\":\"#2a3f5f\",\"arrowhead\":0,\"arrowwidth\":1},\"geo\":{\"bgcolor\":\"white\",\"landcolor\":\"#E5ECF6\",\"subunitcolor\":\"white\",\"showland\":true,\"showlakes\":true,\"lakecolor\":\"white\"},\"title\":{\"x\":0.05},\"mapbox\":{\"style\":\"light\"}}},\"images\":[{\"layer\":\"above\",\"opacity\":0.8,\"sizex\":0.15000000000000002,\"sizey\":0.15000000000000002,\"sizing\":\"contain\",\"source\":\"data:image/png;base64,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\",\"x\":-1.8369701987210297e-16,\"xanchor\":\"center\",\"xref\":\"x\",\"y\":-1.0,\"yanchor\":\"middle\",\"yref\":\"y\"},{\"layer\":\"above\",\"opacity\":0.8,\"sizex\":0.1,\"sizey\":0.1,\"sizing\":\"contain\",\"source\":\"data:image/png;base64,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\",\"x\":0.7071067811865474,\"xanchor\":\"center\",\"xref\":\"x\",\"y\":-0.7071067811865477,\"yanchor\":\"middle\",\"yref\":\"y\"},{\"layer\":\"above\",\"opacity\":0.8,\"sizex\":0.27,\"sizey\":0.27,\"sizing\":\"contain\",\"source\":\"data:image/png;base64,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\",\"x\":1.0,\"xanchor\":\"center\",\"xref\":\"x\",\"y\":0.0,\"yanchor\":\"middle\",\"yref\":\"y\"},{\"layer\":\"above\",\"opacity\":0.8,\"sizex\":0.12,\"sizey\":0.12,\"sizing\":\"contain\",\"source\":\"data:image/png;base64,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\",\"x\":0.7071067811865476,\"xanchor\":\"center\",\"xref\":\"x\",\"y\":0.7071067811865476,\"yanchor\":\"middle\",\"yref\":\"y\"},{\"layer\":\"above\",\"opacity\":0.8,\"sizex\":0.09,\"sizey\":0.09,\"sizing\":\"contain\",\"source\":\"data:image/png;base64,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\",\"x\":6.123233995736766e-17,\"xanchor\":\"center\",\"xref\":\"x\",\"y\":1.0,\"yanchor\":\"middle\",\"yref\":\"y\"},{\"layer\":\"above\",\"opacity\":0.8,\"sizex\":0.12,\"sizey\":0.12,\"sizing\":\"contain\",\"source\":\"data:image/png;base64,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\",\"x\":-0.7071067811865475,\"xanchor\":\"center\",\"xref\":\"x\",\"y\":0.7071067811865476,\"yanchor\":\"middle\",\"yref\":\"y\"},{\"layer\":\"above\",\"opacity\":0.8,\"sizex\":0.12,\"sizey\":0.12,\"sizing\":\"contain\",\"source\":\"data:image/png;base64,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\",\"x\":-1.0,\"xanchor\":\"center\",\"xref\":\"x\",\"y\":1.2246467991473532e-16,\"yanchor\":\"middle\",\"yref\":\"y\"},{\"layer\":\"above\",\"opacity\":0.8,\"sizex\":0.18,\"sizey\":0.18,\"sizing\":\"contain\",\"source\":\"data:image/png;base64,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\",\"x\":-0.7071067811865477,\"xanchor\":\"center\",\"xref\":\"x\",\"y\":-0.7071067811865475,\"yanchor\":\"middle\",\"yref\":\"y\"}],\"updatemenus\":[{\"buttons\":[{\"args\":[{\"visible\":[true,true,true,true,true,true,true,true,true]},{\"title\":\"All data\"}],\"label\":\"all instances\",\"method\":\"update\"},{\"args\":[{\"visible\":[true,false,true,false,true,false,true,true,true]},{\"title\":\"Switches only\"}],\"label\":\"switches\",\"method\":\"update\"},{\"args\":[{\"visible\":[false,false,true,true,true,true,false,true,true]},{\"title\":\"Unhealth devices only\"}],\"label\":\"only unhealthy\",\"method\":\"update\"},{\"args\":[{\"visible\":[true,true,false,false,true,true,true,false,true]},{\"title\":\"Health devices only\"}],\"label\":\"only healthy\",\"method\":\"update\"},{\"args\":[{\"visible\":[false,true,false,true,false,true,true,true,true]},{\"title\":\"UPS only\"}],\"label\":\"UPS\",\"method\":\"update\"}]}]},                        {\"responsive\": true}                    ).then(function(){\n",
       "                            \n",
       "var gd = document.getElementById('8765b07b-cf41-4686-80e3-302bf83638e4');\n",
       "var x = new MutationObserver(function (mutations, observer) {{\n",
       "        var display = window.getComputedStyle(gd).display;\n",
       "        if (!display || display === 'none') {{\n",
       "            console.log([gd, 'removed!']);\n",
       "            Plotly.purge(gd);\n",
       "            observer.disconnect();\n",
       "        }}\n",
       "}});\n",
       "\n",
       "// Listen for the removal of the full notebook cells\n",
       "var notebookContainer = gd.closest('#notebook-container');\n",
       "if (notebookContainer) {{\n",
       "    x.observe(notebookContainer, {childList: true});\n",
       "}}\n",
       "\n",
       "// Listen for the clearing of the current output cell\n",
       "var outputEl = gd.closest('.output');\n",
       "if (outputEl) {{\n",
       "    x.observe(outputEl, {childList: true});\n",
       "}}\n",
       "\n",
       "                        })                };                });            </script>        </div>"
      ]
     },
     "metadata": {},
     "output_type": "display_data"
    }
   ],
   "source": [
    "fig.update_layout(\n",
    "    updatemenus=[\n",
    "        dict(\n",
    "         buttons=list([   \n",
    "            dict(label = 'all instances',\n",
    "                 method = 'update',\n",
    "                 args = [{'visible': [True, True, True, True, True, True, True, True, True]},\n",
    "                         {'title': 'All data'}]),\n",
    "             \n",
    "            dict(label = 'switches',\n",
    "                 method = 'update',\n",
    "                 args = [{'visible': [True, False, True, False, True, False, True, True, True]},\n",
    "                         {'title': 'Switches only'}]),\n",
    "            \n",
    "             dict(label = 'only unhealthy',\n",
    "                 method = 'update',\n",
    "                 args = [{'visible': [False, False, True, True, True, True, False, True, True]},\n",
    "                         {'title': 'Unhealth devices only'}]), \n",
    "             \n",
    "            dict(label = 'only healthy',\n",
    "                 method = 'update',\n",
    "                 args = [{'visible': [True, True, False, False, True, True, True, False, True]},\n",
    "                         {'title': 'Health devices only'}]),  \n",
    "\n",
    "            dict(label = 'UPS',\n",
    "                 method = 'update',\n",
    "                 args = [{'visible': [False, True, False, True, False, True, True, True, True]},\n",
    "                         {'title': 'UPS only'}]),\n",
    "            \n",
    "            \n",
    "        ]),\n",
    "    )]\n",
    ")\n",
    "\n",
    "\n",
    "fig.show()"
   ]
  },
  {
   "cell_type": "code",
   "execution_count": null,
   "id": "38c7209d",
   "metadata": {},
   "outputs": [],
   "source": []
  },
  {
   "cell_type": "code",
   "execution_count": null,
   "id": "27d13169",
   "metadata": {},
   "outputs": [],
   "source": []
  },
  {
   "cell_type": "code",
   "execution_count": null,
   "id": "1a937e04",
   "metadata": {},
   "outputs": [],
   "source": []
  }
 ],
 "metadata": {
  "kernelspec": {
   "display_name": "Python 3 (ipykernel)",
   "language": "python",
   "name": "python3"
  },
  "language_info": {
   "codemirror_mode": {
    "name": "ipython",
    "version": 3
   },
   "file_extension": ".py",
   "mimetype": "text/x-python",
   "name": "python",
   "nbconvert_exporter": "python",
   "pygments_lexer": "ipython3",
   "version": "3.9.13"
  }
 },
 "nbformat": 4,
 "nbformat_minor": 5
}
