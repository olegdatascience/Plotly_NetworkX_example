{
 "cells": [
  {
   "cell_type": "code",
   "execution_count": null,
   "id": "96bfc979",
   "metadata": {},
   "outputs": [],
   "source": [
    "import pandas as pd\n",
    "import networkx as nx\n",
    "import numpy as np\n",
    "from dataclasses import dataclass\n",
    "import matplotlib.pyplot as plt\n",
    "import plotly.graph_objects as go\n",
    "import math\n",
    "from PIL import Image"
   ]
  },
  {
   "cell_type": "code",
   "execution_count": null,
   "id": "5294194e",
   "metadata": {},
   "outputs": [],
   "source": [
    "# load data:\n",
    "df = pd.read_excel('Data.xlsx')\n",
    "df.device_id = df.device_id.astype(str)\n",
    "df.head()"
   ]
  },
  {
   "cell_type": "code",
   "execution_count": null,
   "id": "e31627dd",
   "metadata": {},
   "outputs": [],
   "source": [
    "# convert ids to string\n"
   ]
  },
  {
   "cell_type": "code",
   "execution_count": null,
   "id": "706d0ac3",
   "metadata": {},
   "outputs": [],
   "source": [
    "# list of all unique parent ids and device ids\n",
    "device_list = df.device_id.unique()\n",
    "healthy_device_list = df[df.status == 1].device_id.unique()\n",
    "unhealthy_device_list = df[df.status == 0].device_id.unique()\n",
    "parents_list = df.parent_id.unique()\n",
    "UPS_list = df[df.type=='UPS'].parent_id.unique()\n",
    "switch_list = df[df.type=='switch'].parent_id.unique()\n"
   ]
  },
  {
   "cell_type": "code",
   "execution_count": null,
   "id": "990b7547",
   "metadata": {},
   "outputs": [],
   "source": [
    "# calculate parent statistics:\n",
    "stats = df.groupby('parent_id').agg({'device_id':'nunique' , 'status':'mean'})  \n",
    "stats.columns = ['device_count', 'avaliability_percent']\n",
    "stats['avaliability_percent'] = 100 - stats['avaliability_percent'] * 100\n",
    "stats = stats.merge(df[['parent_id', 'type']].drop_duplicates(), how='left', left_index=True, right_on = 'parent_id')\n",
    "stats.set_index('parent_id', inplace=True)"
   ]
  },
  {
   "cell_type": "code",
   "execution_count": null,
   "id": "ceb3c8fd",
   "metadata": {},
   "outputs": [],
   "source": [
    "stats.round(decimals=2).head()"
   ]
  },
  {
   "cell_type": "code",
   "execution_count": null,
   "id": "5da2c7dd",
   "metadata": {},
   "outputs": [],
   "source": [
    "# add names and separate to stats by parent type\n",
    "stats['name'] = 'Name: ' + stats.index.values + '<br>' + \\\n",
    "                        'Type: ' + stats.type.values + '<br>' +\\\n",
    "                        'Unhealthy: ' + (stats.avaliability_percent * \n",
    "                                         stats.device_count / 100).\\\n",
    "                        round().astype(int).astype(str) + \\\n",
    "                        ' out of ' + stats.device_count.astype(str)\n",
    "\n",
    "stats_switch = stats[stats.index.isin(switch_list)]\n",
    "stats_ups = stats[stats.index.isin(UPS_list)]"
   ]
  },
  {
   "cell_type": "code",
   "execution_count": null,
   "id": "fed27168",
   "metadata": {},
   "outputs": [],
   "source": [
    "stats.round(decimals=2).head()"
   ]
  },
  {
   "cell_type": "code",
   "execution_count": null,
   "id": "5b51b125",
   "metadata": {},
   "outputs": [],
   "source": [
    "# Who's connected to what types\n",
    "# df[['device_id', 'type']].groupby('device_id').apply(lambda x: list(np.unique(x)))\n",
    "# df[['device_id', 'type']].groupby('device_id').apply(lambda x: list(np.array(x)))"
   ]
  },
  {
   "cell_type": "code",
   "execution_count": null,
   "id": "3b0b7af0",
   "metadata": {},
   "outputs": [],
   "source": [
    "# no dulicates check\n",
    "# df.groupby(['device_id', 'parent_id']).count()"
   ]
  },
  {
   "cell_type": "markdown",
   "id": "28de1ba4",
   "metadata": {},
   "source": [
    "Create NetworkX Graph:"
   ]
  },
  {
   "cell_type": "code",
   "execution_count": null,
   "id": "0363ae8f",
   "metadata": {},
   "outputs": [],
   "source": [
    "# make networkx graph from melted dataframe:\n",
    "def get_nx_graph(connections_for_nx, source, target, edge_attr_name = None, node_att=None):\n",
    "    #     assign nodes and edge attributes if any:\n",
    "    if edge_attr_name is not None:\n",
    "        G = nx.from_pandas_edgelist(connections_for_nx, source=source, target=target, edge_attr=edge_attr_name)\n",
    "    else:\n",
    "        G = nx.from_pandas_edgelist(connections_for_nx, source=source, target=target)\n",
    "\n",
    "    #     get # of nodes\n",
    "    Num_nodes = G.number_of_nodes()\n",
    "\n",
    "    #     assign node attributes if any:\n",
    "    if node_att is not None:\n",
    "            nx.set_node_attributes(G, node_att)\n",
    "    return G, Num_nodes"
   ]
  },
  {
   "cell_type": "markdown",
   "id": "d0828592",
   "metadata": {},
   "source": [
    "Create Graph:"
   ]
  },
  {
   "cell_type": "code",
   "execution_count": null,
   "id": "b71ff54d",
   "metadata": {},
   "outputs": [],
   "source": [
    "# create node attributes:\n",
    "# 1. for devices:\n",
    "device_types = df[['device_id']].drop_duplicates().copy()\n",
    "device_types['type'] = 'device'\n",
    "device_types_dict = device_types.drop_duplicates().set_index('device_id').to_dict('index')\n",
    "# 2. for parents:\n",
    "parent_types = df[['parent_id', 'type']].drop_duplicates().copy()\n",
    "parents_types_dict = parent_types.drop_duplicates().set_index('parent_id').to_dict('index')\n",
    "# 3. unite:\n",
    "types_dict = parents_types_dict | device_types_dict"
   ]
  },
  {
   "cell_type": "code",
   "execution_count": null,
   "id": "51b6cebf",
   "metadata": {},
   "outputs": [],
   "source": [
    "G, Num_nodes = get_nx_graph(df, 'device_id', 'parent_id', edge_attr_name='type', node_att=types_dict)"
   ]
  },
  {
   "cell_type": "markdown",
   "id": "f5d6cb77",
   "metadata": {},
   "source": [
    "Geometry:"
   ]
  },
  {
   "cell_type": "code",
   "execution_count": null,
   "id": "35b04710",
   "metadata": {},
   "outputs": [],
   "source": [
    "# scatter initial position around their group gathering point on unit circuit:\n",
    "init_pos = dict()\n",
    "init_pos_x = np.cos(np.linspace(0, 2 * math.pi, len(parents_list)+1))\n",
    "init_pos_y = np.sin(np.linspace(0, 2 * math.pi, len(parents_list)+1))\n",
    "init_pos_xy = tuple(zip(init_pos_x, init_pos_y))\n",
    "\n",
    "init_pos = dict(zip(df.parent_id.unique(), init_pos_xy))\n",
    "\n",
    "for d in df.device_id.unique():\n",
    "    init_pos[d] = tuple([0,0] + np.random.randn(2)*0.01)"
   ]
  },
  {
   "cell_type": "code",
   "execution_count": null,
   "id": "ea7bec90",
   "metadata": {},
   "outputs": [],
   "source": [
    "# Calculate positions:\n",
    "sp_pos = nx.spring_layout(G, \n",
    "                          dim=2, \n",
    "                          iterations=2,\n",
    "                          pos=init_pos, \n",
    "                          fixed=list(df.parent_id.unique()),\n",
    "                          k=100000 / np.sqrt(Num_nodes),\n",
    "                          seed=321)"
   ]
  },
  {
   "cell_type": "code",
   "execution_count": null,
   "id": "d7ea9df2",
   "metadata": {},
   "outputs": [],
   "source": [
    "@dataclass\n",
    "class GraphicGroup:\n",
    "    x_edges: list\n",
    "    y_edges: list\n",
    "    x_nodes: list\n",
    "    y_nodes: list\n",
    "    edge_color: 'typing.Any'\n",
    "    node_color:  'typing.Any'\n",
    "    node_color_outline: 'typing.Any'\n",
    "    node_hover: 'typing.Any'\n",
    "    node_size: 'typing.Any'\n",
    "    marker: 'typing.Any'\n",
    "    marker_linewidth: 'typing.Any'\n",
    "    mode: str\n",
    "    opacity: 'typing.Any'"
   ]
  },
  {
   "cell_type": "code",
   "execution_count": null,
   "id": "a73dacc4",
   "metadata": {},
   "outputs": [],
   "source": [
    "# define geometry to draw with plotly:\n",
    "def get_geometry(item_list, item_list_highlight, G, sp_pos):\n",
    "    x_edges = []\n",
    "    y_edges = []\n",
    "    x_edges_hl = []\n",
    "    y_edges_hl = []\n",
    "\n",
    "    group_edge_list = G.edges(item_list)\n",
    "    group_edge_list_highlight =  G.edges(item_list_highlight)\n",
    "\n",
    "    for edge in [x for x in group_edge_list if x not in group_edge_list_highlight]:\n",
    "        # format: [beginning,ending,None]\n",
    "        x_edges.extend([sp_pos[edge[0]][0], sp_pos[edge[1]][0], None])\n",
    "        y_edges.extend([sp_pos[edge[0]][1], sp_pos[edge[1]][1], None])\n",
    "\n",
    "    for edge in group_edge_list_highlight:\n",
    "        # format: [beginning,ending,None]\n",
    "        x_edges_hl.extend([sp_pos[edge[0]][0], sp_pos[edge[1]][0], None])\n",
    "        y_edges_hl.extend([sp_pos[edge[0]][1], sp_pos[edge[1]][1], None])\n",
    "\n",
    "    x_nodes = [sp_pos[i][0] for i in item_list]  # x-coordinates of nodes\n",
    "    y_nodes = [sp_pos[i][1] for i in item_list]  # y-coordinates of nodes\n",
    "    \n",
    "    deg = [G.degree[i] for i in item_list]  # degree\n",
    "\n",
    "    return x_edges, y_edges, x_edges_hl, y_edges_hl, x_nodes, y_nodes, deg"
   ]
  },
  {
   "cell_type": "code",
   "execution_count": null,
   "id": "797e8c7c",
   "metadata": {},
   "outputs": [],
   "source": [
    "x_edges_s_h, y_edges_s_h, x_edges_s_uh, y_edges_s_uh, x_nodes_s, y_nodes_s, deg_s = \\\n",
    "    get_geometry(switch_list, unhealthy_device_list, G, sp_pos)\n",
    "\n",
    "x_edges_ups_h, y_edges_ups_h, x_edges_ups_uh, y_edges_ups_uh, x_nodes_ups, y_nodes_ups, deg_ups = \\\n",
    "    get_geometry(UPS_list, unhealthy_device_list, G, sp_pos)\n",
    "\n",
    "_, _, _, _, x_nodes_devs_h, y_nodes_devs_h, _ = \\\n",
    "    get_geometry(healthy_device_list, [], G, sp_pos)\n",
    "\n",
    "_, _, _, _, x_nodes_devs_uh, y_nodes_devs_uh, _ = \\\n",
    "    get_geometry(unhealthy_device_list, [], G, sp_pos)\n"
   ]
  },
  {
   "cell_type": "markdown",
   "id": "d0e7f9e4",
   "metadata": {},
   "source": [
    "Plotly:"
   ]
  },
  {
   "cell_type": "code",
   "execution_count": null,
   "id": "4db2877b",
   "metadata": {},
   "outputs": [],
   "source": [
    "# Define attributes for each graphic group:\n",
    "\n",
    "graphic_group_s = GraphicGroup(\n",
    "    x_edges=x_edges_s_h,\n",
    "    y_edges=y_edges_s_h,\n",
    "    x_nodes=x_nodes_s,\n",
    "    y_nodes=y_nodes_s,\n",
    "    edge_color='cadetblue',\n",
    "    node_color='cadetblue',\n",
    "    node_color_outline = 'cadetblue',\n",
    "    node_hover=stats_switch.name,\n",
    "    node_size=stats_switch.device_count.values*10,\n",
    "    marker='circle',\n",
    "    marker_linewidth=6,\n",
    "    mode='markers+text',\n",
    "    opacity=1)\n",
    "\n",
    "graphic_group_s_uh = GraphicGroup(\n",
    "    x_edges=x_edges_s_uh,\n",
    "    y_edges=y_edges_s_uh,\n",
    "    x_nodes=[],\n",
    "    y_nodes=[],\n",
    "    edge_color='red',\n",
    "    node_color=None,\n",
    "    node_color_outline = None,\n",
    "    node_hover=None,\n",
    "    node_size=None,\n",
    "    marker=None,\n",
    "    marker_linewidth=None,\n",
    "    mode='markers',\n",
    "    opacity=1)\n",
    "\n",
    "graphic_group_ups = GraphicGroup(\n",
    "    x_edges=x_edges_ups_h,\n",
    "    y_edges=y_edges_ups_h,\n",
    "    x_nodes=x_nodes_ups,\n",
    "    y_nodes=y_nodes_ups,\n",
    "    edge_color='steelblue',\n",
    "    node_color='steelblue',\n",
    "    node_color_outline = 'steelblue',\n",
    "    node_hover=stats_ups.name,\n",
    "    node_size=stats_ups.device_count.values*10,\n",
    "    marker=None,\n",
    "    marker_linewidth=6,\n",
    "    mode='markers+text',\n",
    "    opacity=1)\n",
    "\n",
    "graphic_group_ups_uh = GraphicGroup(\n",
    "    x_edges=x_edges_ups_uh,\n",
    "    y_edges=y_edges_ups_uh,\n",
    "    x_nodes=[],\n",
    "    y_nodes=[],\n",
    "    edge_color='red',\n",
    "    node_color=None,\n",
    "    node_color_outline = None,\n",
    "    node_hover=None,\n",
    "    node_size=None,\n",
    "    marker=None,\n",
    "    marker_linewidth=None,\n",
    "    mode='markers',\n",
    "    opacity=1)\n",
    "\n",
    "graphic_group_devs_h = GraphicGroup(\n",
    "    x_edges=[],\n",
    "    y_edges=[],\n",
    "    x_nodes=x_nodes_devs_h,\n",
    "    y_nodes=y_nodes_devs_h,\n",
    "    edge_color='green',\n",
    "    node_color='green',\n",
    "    node_color_outline = 'green',\n",
    "    node_hover= healthy_device_list,\n",
    "    node_size=8,\n",
    "    marker='circle',\n",
    "    marker_linewidth=1,\n",
    "    mode='markers+text',\n",
    "    opacity=1)\n",
    "\n",
    "graphic_group_devs_uh = GraphicGroup(\n",
    "    x_edges=[],\n",
    "    y_edges=[],\n",
    "    x_nodes=x_nodes_devs_uh,\n",
    "    y_nodes=y_nodes_devs_uh,\n",
    "    edge_color='red',\n",
    "    node_color='red',\n",
    "    node_color_outline = 'red',\n",
    "    node_hover= unhealthy_device_list,\n",
    "    node_size=8,\n",
    "    marker='circle',\n",
    "    marker_linewidth=1,\n",
    "    mode='markers+text',\n",
    "    opacity=1)"
   ]
  },
  {
   "cell_type": "code",
   "execution_count": null,
   "id": "f67302fe",
   "metadata": {},
   "outputs": [],
   "source": [
    "# Convert each graphic group to objects in Plotly:\n",
    "def get_traces(graphic_group):\n",
    "    trace_edges = go.Scatter(x=graphic_group.x_edges,\n",
    "                             y=graphic_group.y_edges,\n",
    "                             mode='lines',\n",
    "                             line=dict(color=graphic_group.edge_color, width=0.75),\n",
    "                             hoverinfo='none',\n",
    "                             opacity=1)\n",
    "    trace_nodes = go.Scatter(x=graphic_group.x_nodes,\n",
    "                             y=graphic_group.y_nodes,\n",
    "                             mode=graphic_group.mode,\n",
    "                             marker=dict(symbol=graphic_group.marker,\n",
    "                                         size=graphic_group.node_size,  \n",
    "                                         color=graphic_group.node_color, \n",
    "                                         line=dict(color=graphic_group.node_color_outline, \n",
    "                                                   width=graphic_group.marker_linewidth), \n",
    "                                         opacity=graphic_group.opacity),\n",
    "                             text=graphic_group.node_hover,\n",
    "                             hovertext=graphic_group.node_hover,\n",
    "                             hoverinfo='text',\n",
    "                             textposition=\"top center\")\n",
    "    return trace_edges, trace_nodes"
   ]
  },
  {
   "cell_type": "code",
   "execution_count": null,
   "id": "458cdbf3",
   "metadata": {},
   "outputs": [],
   "source": [
    "trace_edges_s, trace_nodes_s = get_traces(graphic_group_s)\n",
    "trace_edges_ups, trace_nodes_ups = get_traces(graphic_group_ups)\n",
    "trace_edges_devs, trace_nodes_devs = get_traces(graphic_group_devs_h)\n",
    "trace_edges_devs_uh, trace_nodes_devs_uh = get_traces(graphic_group_devs_uh)\n",
    "trace_edges_s_uh, _ = get_traces(graphic_group_s_uh)\n",
    "trace_edges_ups_uh, _ = get_traces(graphic_group_ups_uh)\n"
   ]
  },
  {
   "cell_type": "code",
   "execution_count": null,
   "id": "d9154a19",
   "metadata": {},
   "outputs": [],
   "source": [
    "# assemble all graphic objects to an array of all display data:\n",
    "display_data = [                       \n",
    "        trace_edges_s,\n",
    "        trace_edges_ups,\n",
    "        trace_edges_s_uh,\n",
    "        trace_edges_ups_uh,\n",
    "        trace_nodes_s,\n",
    "        trace_nodes_ups,  \n",
    "        trace_nodes_devs,\n",
    "        trace_nodes_devs_uh,\n",
    "    ]"
   ]
  },
  {
   "cell_type": "code",
   "execution_count": null,
   "id": "0c8f0576",
   "metadata": {},
   "outputs": [],
   "source": [
    "# define figure layout:\n",
    "layout = go.Layout(title=\"Root Cause Overview\",\n",
    "                       width=1000,\n",
    "                       height=1100,\n",
    "                       showlegend=False,\n",
    "                       hovermode='closest',\n",
    "                       hoverlabel=dict(\n",
    "                           bgcolor=\"white\",\n",
    "                           font_size=26,\n",
    "                           font_family=\"Rockwell\"),\n",
    "                       yaxis_range=[-1.2,1.2],\n",
    "                       xaxis_range=[-1.3,1.3],\n",
    "                       xaxis=dict(showgrid=False),\n",
    "                       yaxis=dict(showgrid=False))"
   ]
  },
  {
   "cell_type": "code",
   "execution_count": null,
   "id": "7aae5a8a",
   "metadata": {
    "scrolled": false
   },
   "outputs": [],
   "source": [
    "# plot figure:\n",
    "fig = go.Figure(data=display_data, layout=layout)\n",
    "    \n",
    "fig.show()"
   ]
  },
  {
   "cell_type": "code",
   "execution_count": null,
   "id": "91295591",
   "metadata": {},
   "outputs": [],
   "source": [
    "# Add color map to emphysize how healthy are the dependant devices\n",
    "coloscale_name = \"YlOrBr\"\n",
    "cmap = plt.cm.get_cmap(coloscale_name)\n",
    "cm_s = cmap((stats_switch.avaliability_percent / 100 * 256).astype(int).values) * 256 \n",
    "cm_ups = cmap((stats_ups.avaliability_percent / 100 * 256).astype(int).values) * 256 "
   ]
  },
  {
   "cell_type": "code",
   "execution_count": null,
   "id": "a3ce1c72",
   "metadata": {},
   "outputs": [],
   "source": [
    "# Define attributes for each graphic group:\n",
    "graphic_group_s.node_color_outline = ['rgba(%d, %d, %d, 1)' % (i[0], i[1], i[2]) for i in cm_s]\n",
    "graphic_group_ups.node_color_outline = ['rgba(%d, %d, %d, 1)' % (i[0], i[1], i[2]) for i in cm_ups]"
   ]
  },
  {
   "cell_type": "code",
   "execution_count": null,
   "id": "199cd4eb",
   "metadata": {},
   "outputs": [],
   "source": [
    "_, trace_nodes_s = get_traces(graphic_group_s)\n",
    "_, trace_nodes_ups = get_traces(graphic_group_ups)"
   ]
  },
  {
   "cell_type": "code",
   "execution_count": null,
   "id": "e4fcd60a",
   "metadata": {},
   "outputs": [],
   "source": [
    "colorbar_trace = go.Scatter(x=[None],\n",
    "                            y=[None],\n",
    "                            mode='markers',\n",
    "                            marker=dict(\n",
    "                                colorscale=coloscale_name,\n",
    "                                showscale=True,\n",
    "                                cmin=-5,\n",
    "                                cmax=5,\n",
    "                                colorbar=dict(title='UNHEALTHY',\n",
    "                                              thickness=25,\n",
    "                                              tickvals=[-5, -2.5, 0, 2.5, 5],\n",
    "                                              ticktext=['0%', '25%', '50%', '75%', '100% '],\n",
    "                                              outlinewidth=0)\n",
    "                            ),\n",
    "                            hoverinfo='none'\n",
    "    )"
   ]
  },
  {
   "cell_type": "code",
   "execution_count": null,
   "id": "e5da9ed7",
   "metadata": {},
   "outputs": [],
   "source": [
    "# assemble all graphic objects to an array of all display data:\n",
    "display_data = [                   \n",
    "        trace_edges_s,\n",
    "        trace_edges_ups,\n",
    "        trace_edges_s_uh,\n",
    "        trace_edges_ups_uh,\n",
    "        trace_nodes_s,\n",
    "        trace_nodes_ups,  \n",
    "        trace_nodes_devs,\n",
    "        trace_nodes_devs_uh,\n",
    "        colorbar_trace\n",
    "    ]"
   ]
  },
  {
   "cell_type": "code",
   "execution_count": null,
   "id": "0bece97c",
   "metadata": {},
   "outputs": [],
   "source": [
    "fig = go.Figure(data=display_data, layout=layout)\n",
    "\n",
    "for i in range(len(x_nodes_ups)):\n",
    "    fig.add_layout_image(\n",
    "            dict(\n",
    "                source=Image.open(\"UPS.png\"),\n",
    "                xref=\"x\",\n",
    "                yref=\"y\",\n",
    "                xanchor=\"center\",\n",
    "                yanchor=\"middle\",\n",
    "                x=x_nodes_ups[i]*1,\n",
    "                y=y_nodes_ups[i]*1,\n",
    "                sizex=0.025*deg_ups[i],\n",
    "                sizey=0.025*deg_ups[i],\n",
    "                sizing=\"contain\",\n",
    "                opacity=0.8,\n",
    "                layer=\"above\"\n",
    "            )\n",
    "        )\n",
    "\n",
    "\n",
    "for i in range(len(x_nodes_s)):\n",
    "    fig.add_layout_image(\n",
    "            dict(\n",
    "                source=Image.open(\"switch.png\"),\n",
    "                xref=\"x\",\n",
    "                yref=\"y\",\n",
    "                xanchor=\"center\",\n",
    "                yanchor=\"middle\",\n",
    "                x=x_nodes_s[i]*1,\n",
    "                y=y_nodes_s[i]*1,\n",
    "                sizex=0.03*deg_s[i],\n",
    "                sizey=0.03*deg_s[i],\n",
    "                sizing=\"contain\",\n",
    "                opacity=0.8,\n",
    "                layer=\"above\"            )\n",
    "        )"
   ]
  },
  {
   "cell_type": "code",
   "execution_count": null,
   "id": "8abf0225",
   "metadata": {
    "scrolled": false
   },
   "outputs": [],
   "source": [
    "fig.update_layout(\n",
    "    updatemenus=[\n",
    "        dict(\n",
    "         buttons=list([   \n",
    "            dict(label = 'all instances',\n",
    "                 method = 'update',\n",
    "                 args = [{'visible': [True, True, True, True, True, True, True, True, True]},\n",
    "                         {'title': 'All data'}]),\n",
    "             \n",
    "            dict(label = 'switches',\n",
    "                 method = 'update',\n",
    "                 args = [{'visible': [True, False, True, False, True, False, True, True, True]},\n",
    "                         {'title': 'Switches only'}]),\n",
    "            \n",
    "             dict(label = 'only unhealthy',\n",
    "                 method = 'update',\n",
    "                 args = [{'visible': [False, False, True, True, True, True, False, True, True]},\n",
    "                         {'title': 'Unhealth devices only'}]), \n",
    "             \n",
    "            dict(label = 'only healthy',\n",
    "                 method = 'update',\n",
    "                 args = [{'visible': [True, True, False, False, True, True, True, False, True]},\n",
    "                         {'title': 'Health devices only'}]),  \n",
    "\n",
    "            dict(label = 'UPS',\n",
    "                 method = 'update',\n",
    "                 args = [{'visible': [False, True, False, True, False, True, True, True, True]},\n",
    "                         {'title': 'UPS only'}]),\n",
    "            \n",
    "            \n",
    "        ]),\n",
    "    )]\n",
    ")\n",
    "\n",
    "\n",
    "fig.show()"
   ]
  },
  {
   "cell_type": "code",
   "execution_count": null,
   "id": "c2b3dfd0",
   "metadata": {
    "scrolled": false
   },
   "outputs": [],
   "source": []
  },
  {
   "cell_type": "code",
   "execution_count": null,
   "id": "7c8e07fb",
   "metadata": {},
   "outputs": [],
   "source": []
  },
  {
   "cell_type": "code",
   "execution_count": null,
   "id": "38c7209d",
   "metadata": {},
   "outputs": [],
   "source": []
  }
 ],
 "metadata": {
  "kernelspec": {
   "display_name": "Python 3 (ipykernel)",
   "language": "python",
   "name": "python3"
  },
  "language_info": {
   "codemirror_mode": {
    "name": "ipython",
    "version": 3
   },
   "file_extension": ".py",
   "mimetype": "text/x-python",
   "name": "python",
   "nbconvert_exporter": "python",
   "pygments_lexer": "ipython3",
   "version": "3.9.13"
  }
 },
 "nbformat": 4,
 "nbformat_minor": 5
}
